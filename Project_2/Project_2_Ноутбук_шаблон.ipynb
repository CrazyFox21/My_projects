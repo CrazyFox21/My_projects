{
  "cells": [
    {
      "cell_type": "markdown",
      "id": "42289889-bd57-434e-9637-d3e354756316",
      "metadata": {
        "id": "42289889-bd57-434e-9637-d3e354756316"
      },
      "source": [
        "<center> <img src = https://raw.githubusercontent.com/AndreyRysistov/DatasetsForPandas/main/hh%20label.jpg alt=\"drawing\" style=\"width:400px;\">"
      ]
    },
    {
      "cell_type": "markdown",
      "id": "829cb75b-f14e-4ba8-9195-7ba929a7d656",
      "metadata": {
        "id": "829cb75b-f14e-4ba8-9195-7ba929a7d656",
        "tags": []
      },
      "source": [
        "# <center> Проект: Анализ вакансий из HeadHunter\n",
        "   "
      ]
    },
    {
      "cell_type": "code",
      "execution_count": 55,
      "id": "dccfde33-2452-43fb-a8a5-5c6ebc02a71d",
      "metadata": {
        "id": "dccfde33-2452-43fb-a8a5-5c6ebc02a71d"
      },
      "outputs": [],
      "source": [
        "import pandas as pd\n",
        "import psycopg2"
      ]
    },
    {
      "cell_type": "code",
      "execution_count": 54,
      "id": "G4X_q8KBf7SF",
      "metadata": {
        "id": "G4X_q8KBf7SF"
      },
      "outputs": [],
      "source": [
        "connection = psycopg2.connect(\n",
        "    dbname=DBNAME,\n",
        "    user=USER,\n",
        "    host=HOST,\n",
        "    password=PASSWORD,\n",
        "    port=PORT\n",
        ")"
      ]
    },
    {
      "cell_type": "markdown",
      "id": "0dc6476b-7a00-44f1-ac93-6e3baed33a29",
      "metadata": {
        "id": "0dc6476b-7a00-44f1-ac93-6e3baed33a29"
      },
      "source": [
        "# Юнит 3. Предварительный анализ данных"
      ]
    },
    {
      "cell_type": "markdown",
      "id": "889782b6-8d1c-410e-8920-e57f27917c64",
      "metadata": {
        "id": "889782b6-8d1c-410e-8920-e57f27917c64"
      },
      "source": [
        "1. Напишите запрос, который посчитает количество вакансий в нашей базе (вакансии находятся в таблице vacancies). "
      ]
    },
    {
      "cell_type": "code",
      "execution_count": 4,
      "id": "bc39e68e-ed02-4ee2-9235-7258a2f867a8",
      "metadata": {
        "id": "bc39e68e-ed02-4ee2-9235-7258a2f867a8"
      },
      "outputs": [],
      "source": [
        "query_3_1 = f'''select count(id)\n",
        "            from public.vacancies\n",
        "            '''"
      ]
    },
    {
      "cell_type": "code",
      "execution_count": 5,
      "id": "7mAwtsk4hEHY",
      "metadata": {
        "id": "7mAwtsk4hEHY"
      },
      "outputs": [
        {
          "name": "stderr",
          "output_type": "stream",
          "text": [
            "C:\\Users\\kab27\\AppData\\Local\\Temp\\ipykernel_12832\\2127050470.py:1: UserWarning: pandas only supports SQLAlchemy connectable (engine/connection) or database string URI or sqlite3 DBAPI2 connection. Other DBAPI2 objects are not tested. Please consider using SQLAlchemy.\n",
            "  df_3_1 = pd.read_sql_query(query_3_1, connection)\n"
          ]
        },
        {
          "data": {
            "text/html": [
              "<div>\n",
              "<style scoped>\n",
              "    .dataframe tbody tr th:only-of-type {\n",
              "        vertical-align: middle;\n",
              "    }\n",
              "\n",
              "    .dataframe tbody tr th {\n",
              "        vertical-align: top;\n",
              "    }\n",
              "\n",
              "    .dataframe thead th {\n",
              "        text-align: right;\n",
              "    }\n",
              "</style>\n",
              "<table border=\"1\" class=\"dataframe\">\n",
              "  <thead>\n",
              "    <tr style=\"text-align: right;\">\n",
              "      <th></th>\n",
              "      <th>count</th>\n",
              "    </tr>\n",
              "  </thead>\n",
              "  <tbody>\n",
              "    <tr>\n",
              "      <th>0</th>\n",
              "      <td>49197</td>\n",
              "    </tr>\n",
              "  </tbody>\n",
              "</table>\n",
              "</div>"
            ],
            "text/plain": [
              "   count\n",
              "0  49197"
            ]
          },
          "execution_count": 5,
          "metadata": {},
          "output_type": "execute_result"
        }
      ],
      "source": [
        "df_3_1 = pd.read_sql_query(query_3_1, connection)\n",
        "df_3_1"
      ]
    },
    {
      "cell_type": "markdown",
      "id": "b583485d-1f9e-494e-ada4-80ffff7c53d6",
      "metadata": {
        "id": "b583485d-1f9e-494e-ada4-80ffff7c53d6"
      },
      "source": [
        "2. Напишите запрос, который посчитает количество работодателей (таблица employers). "
      ]
    },
    {
      "cell_type": "code",
      "execution_count": 6,
      "id": "5408c52c-3407-4a63-b25b-1aafa2322d28",
      "metadata": {
        "id": "5408c52c-3407-4a63-b25b-1aafa2322d28"
      },
      "outputs": [],
      "source": [
        "query_3_2 = f'''select count(id)\n",
        "            from public.employers\n",
        "            '''"
      ]
    },
    {
      "cell_type": "code",
      "execution_count": 7,
      "id": "jVL4eshKhdqc",
      "metadata": {
        "id": "jVL4eshKhdqc"
      },
      "outputs": [
        {
          "name": "stderr",
          "output_type": "stream",
          "text": [
            "C:\\Users\\kab27\\AppData\\Local\\Temp\\ipykernel_12832\\2741247974.py:1: UserWarning: pandas only supports SQLAlchemy connectable (engine/connection) or database string URI or sqlite3 DBAPI2 connection. Other DBAPI2 objects are not tested. Please consider using SQLAlchemy.\n",
            "  df_3_2 = pd.read_sql_query(query_3_2, connection)\n"
          ]
        },
        {
          "data": {
            "text/html": [
              "<div>\n",
              "<style scoped>\n",
              "    .dataframe tbody tr th:only-of-type {\n",
              "        vertical-align: middle;\n",
              "    }\n",
              "\n",
              "    .dataframe tbody tr th {\n",
              "        vertical-align: top;\n",
              "    }\n",
              "\n",
              "    .dataframe thead th {\n",
              "        text-align: right;\n",
              "    }\n",
              "</style>\n",
              "<table border=\"1\" class=\"dataframe\">\n",
              "  <thead>\n",
              "    <tr style=\"text-align: right;\">\n",
              "      <th></th>\n",
              "      <th>count</th>\n",
              "    </tr>\n",
              "  </thead>\n",
              "  <tbody>\n",
              "    <tr>\n",
              "      <th>0</th>\n",
              "      <td>23501</td>\n",
              "    </tr>\n",
              "  </tbody>\n",
              "</table>\n",
              "</div>"
            ],
            "text/plain": [
              "   count\n",
              "0  23501"
            ]
          },
          "execution_count": 7,
          "metadata": {},
          "output_type": "execute_result"
        }
      ],
      "source": [
        "df_3_2 = pd.read_sql_query(query_3_2, connection)\n",
        "df_3_2"
      ]
    },
    {
      "cell_type": "markdown",
      "id": "a2bfff1f-c975-4bf6-84be-2185d79dcb76",
      "metadata": {
        "id": "a2bfff1f-c975-4bf6-84be-2185d79dcb76"
      },
      "source": [
        "3. Посчитате с помощью запроса количество регионов (таблица areas)."
      ]
    },
    {
      "cell_type": "code",
      "execution_count": 8,
      "id": "1m8QJwBYhey6",
      "metadata": {
        "id": "1m8QJwBYhey6"
      },
      "outputs": [],
      "source": [
        "query_3_3 = f'''select count(id)\n",
        "            from public.areas\n",
        "            '''"
      ]
    },
    {
      "cell_type": "code",
      "execution_count": 9,
      "id": "EZsn9tlfhe7f",
      "metadata": {
        "id": "EZsn9tlfhe7f"
      },
      "outputs": [
        {
          "name": "stderr",
          "output_type": "stream",
          "text": [
            "C:\\Users\\kab27\\AppData\\Local\\Temp\\ipykernel_12832\\3006110907.py:1: UserWarning: pandas only supports SQLAlchemy connectable (engine/connection) or database string URI or sqlite3 DBAPI2 connection. Other DBAPI2 objects are not tested. Please consider using SQLAlchemy.\n",
            "  df_3_3 = pd.read_sql_query(query_3_3, connection)\n"
          ]
        },
        {
          "data": {
            "text/html": [
              "<div>\n",
              "<style scoped>\n",
              "    .dataframe tbody tr th:only-of-type {\n",
              "        vertical-align: middle;\n",
              "    }\n",
              "\n",
              "    .dataframe tbody tr th {\n",
              "        vertical-align: top;\n",
              "    }\n",
              "\n",
              "    .dataframe thead th {\n",
              "        text-align: right;\n",
              "    }\n",
              "</style>\n",
              "<table border=\"1\" class=\"dataframe\">\n",
              "  <thead>\n",
              "    <tr style=\"text-align: right;\">\n",
              "      <th></th>\n",
              "      <th>count</th>\n",
              "    </tr>\n",
              "  </thead>\n",
              "  <tbody>\n",
              "    <tr>\n",
              "      <th>0</th>\n",
              "      <td>1362</td>\n",
              "    </tr>\n",
              "  </tbody>\n",
              "</table>\n",
              "</div>"
            ],
            "text/plain": [
              "   count\n",
              "0   1362"
            ]
          },
          "execution_count": 9,
          "metadata": {},
          "output_type": "execute_result"
        }
      ],
      "source": [
        "df_3_3 = pd.read_sql_query(query_3_3, connection)\n",
        "df_3_3"
      ]
    },
    {
      "cell_type": "markdown",
      "id": "41bb59f3-53cc-4a67-a5bc-bedf573955e4",
      "metadata": {
        "id": "41bb59f3-53cc-4a67-a5bc-bedf573955e4"
      },
      "source": [
        "4. Посчитате с помощью запроса количество сфер деятельности в базе (таблица industries)."
      ]
    },
    {
      "cell_type": "code",
      "execution_count": 10,
      "id": "d286cf4c-707b-4cd2-9190-7ab3587d04a1",
      "metadata": {
        "id": "d286cf4c-707b-4cd2-9190-7ab3587d04a1"
      },
      "outputs": [],
      "source": [
        "query_3_4 = f'''select count(id)\n",
        "            from public.industries\n",
        "            '''"
      ]
    },
    {
      "cell_type": "code",
      "execution_count": 11,
      "id": "JYAaoZ4qhfzW",
      "metadata": {
        "id": "JYAaoZ4qhfzW"
      },
      "outputs": [
        {
          "name": "stderr",
          "output_type": "stream",
          "text": [
            "C:\\Users\\kab27\\AppData\\Local\\Temp\\ipykernel_12832\\764330752.py:1: UserWarning: pandas only supports SQLAlchemy connectable (engine/connection) or database string URI or sqlite3 DBAPI2 connection. Other DBAPI2 objects are not tested. Please consider using SQLAlchemy.\n",
            "  df_3_4 = pd.read_sql_query(query_3_4, connection)\n"
          ]
        },
        {
          "data": {
            "text/html": [
              "<div>\n",
              "<style scoped>\n",
              "    .dataframe tbody tr th:only-of-type {\n",
              "        vertical-align: middle;\n",
              "    }\n",
              "\n",
              "    .dataframe tbody tr th {\n",
              "        vertical-align: top;\n",
              "    }\n",
              "\n",
              "    .dataframe thead th {\n",
              "        text-align: right;\n",
              "    }\n",
              "</style>\n",
              "<table border=\"1\" class=\"dataframe\">\n",
              "  <thead>\n",
              "    <tr style=\"text-align: right;\">\n",
              "      <th></th>\n",
              "      <th>count</th>\n",
              "    </tr>\n",
              "  </thead>\n",
              "  <tbody>\n",
              "    <tr>\n",
              "      <th>0</th>\n",
              "      <td>294</td>\n",
              "    </tr>\n",
              "  </tbody>\n",
              "</table>\n",
              "</div>"
            ],
            "text/plain": [
              "   count\n",
              "0    294"
            ]
          },
          "execution_count": 11,
          "metadata": {},
          "output_type": "execute_result"
        }
      ],
      "source": [
        "df_3_4 = pd.read_sql_query(query_3_4, connection)\n",
        "df_3_4"
      ]
    },
    {
      "cell_type": "markdown",
      "id": "9a8a2181-6914-448b-85f1-38f5f18b8a93",
      "metadata": {
        "id": "9a8a2181-6914-448b-85f1-38f5f18b8a93"
      },
      "source": [
        "***"
      ]
    },
    {
      "attachments": {},
      "cell_type": "markdown",
      "id": "3067a2d3",
      "metadata": {},
      "source": [
        "Количество вакансий более чем в 2 раза больше чем количество работадателей. Следовательно в основном работадатели публикуют больше 1 вакансии, возможно есть работадатели без вакансий.\n",
        "Работадатели размещают свои вакансии в 1362х регионах. Всего указано 294 сферы деятельности."
      ]
    },
    {
      "cell_type": "markdown",
      "id": "8d62a9f3-f64e-4fe7-bdac-c4dffa16155e",
      "metadata": {
        "id": "8d62a9f3-f64e-4fe7-bdac-c4dffa16155e"
      },
      "source": [
        "# Юнит 4. Детальный анализ вакансий"
      ]
    },
    {
      "cell_type": "markdown",
      "id": "93053d3d-b284-481a-9cf7-012d7014c0e0",
      "metadata": {
        "id": "93053d3d-b284-481a-9cf7-012d7014c0e0"
      },
      "source": [
        "1. Напишите запрос, который позволит узнать, сколько (cnt) вакансий в каждом регионе (area).\n",
        "Отсортируйте по количеству вакансий в порядке убывания."
      ]
    },
    {
      "cell_type": "code",
      "execution_count": 12,
      "id": "3f069da6-fdc9-4ae7-b514-fafe2675efd3",
      "metadata": {
        "id": "3f069da6-fdc9-4ae7-b514-fafe2675efd3"
      },
      "outputs": [],
      "source": [
        "query_4_1 = f'''select \n",
        "                a.name,\n",
        "                count(v.id)\n",
        "            from public.areas a\n",
        "                LEFT JOIN  public.vacancies v on v.area_id=a.id\n",
        "            GROUP BY a.name\n",
        "            ORDER BY 2 desc\n",
        "            LIMIT 5\n",
        "            '''"
      ]
    },
    {
      "cell_type": "code",
      "execution_count": 13,
      "id": "P7QL86hrjhRJ",
      "metadata": {
        "id": "P7QL86hrjhRJ"
      },
      "outputs": [
        {
          "name": "stderr",
          "output_type": "stream",
          "text": [
            "C:\\Users\\kab27\\AppData\\Local\\Temp\\ipykernel_12832\\1522353868.py:1: UserWarning: pandas only supports SQLAlchemy connectable (engine/connection) or database string URI or sqlite3 DBAPI2 connection. Other DBAPI2 objects are not tested. Please consider using SQLAlchemy.\n",
            "  df_4_1 = pd.read_sql_query(query_4_1, connection)\n"
          ]
        },
        {
          "data": {
            "text/html": [
              "<div>\n",
              "<style scoped>\n",
              "    .dataframe tbody tr th:only-of-type {\n",
              "        vertical-align: middle;\n",
              "    }\n",
              "\n",
              "    .dataframe tbody tr th {\n",
              "        vertical-align: top;\n",
              "    }\n",
              "\n",
              "    .dataframe thead th {\n",
              "        text-align: right;\n",
              "    }\n",
              "</style>\n",
              "<table border=\"1\" class=\"dataframe\">\n",
              "  <thead>\n",
              "    <tr style=\"text-align: right;\">\n",
              "      <th></th>\n",
              "      <th>name</th>\n",
              "      <th>count</th>\n",
              "    </tr>\n",
              "  </thead>\n",
              "  <tbody>\n",
              "    <tr>\n",
              "      <th>0</th>\n",
              "      <td>Москва</td>\n",
              "      <td>5333</td>\n",
              "    </tr>\n",
              "    <tr>\n",
              "      <th>1</th>\n",
              "      <td>Санкт-Петербург</td>\n",
              "      <td>2851</td>\n",
              "    </tr>\n",
              "    <tr>\n",
              "      <th>2</th>\n",
              "      <td>Минск</td>\n",
              "      <td>2112</td>\n",
              "    </tr>\n",
              "    <tr>\n",
              "      <th>3</th>\n",
              "      <td>Новосибирск</td>\n",
              "      <td>2006</td>\n",
              "    </tr>\n",
              "    <tr>\n",
              "      <th>4</th>\n",
              "      <td>Алматы</td>\n",
              "      <td>1892</td>\n",
              "    </tr>\n",
              "  </tbody>\n",
              "</table>\n",
              "</div>"
            ],
            "text/plain": [
              "              name  count\n",
              "0           Москва   5333\n",
              "1  Санкт-Петербург   2851\n",
              "2            Минск   2112\n",
              "3      Новосибирск   2006\n",
              "4           Алматы   1892"
            ]
          },
          "execution_count": 13,
          "metadata": {},
          "output_type": "execute_result"
        }
      ],
      "source": [
        "df_4_1 = pd.read_sql_query(query_4_1, connection)\n",
        "df_4_1"
      ]
    },
    {
      "cell_type": "markdown",
      "id": "4266f0b6-1646-492a-88b4-2f6a46502135",
      "metadata": {
        "id": "4266f0b6-1646-492a-88b4-2f6a46502135"
      },
      "source": [
        "2. Напишите запрос, чтобы определить у какого количества вакансий заполнено хотя бы одно из двух полей с зарплатой."
      ]
    },
    {
      "cell_type": "code",
      "execution_count": 14,
      "id": "0c44b350-72eb-4d65-8b54-a1fc449ba9fd",
      "metadata": {
        "id": "0c44b350-72eb-4d65-8b54-a1fc449ba9fd"
      },
      "outputs": [],
      "source": [
        "query_4_2 = f'''select \n",
        "                count(id)\n",
        "            from public.vacancies\n",
        "            WHERE salary_from is not null or salary_to is not null\n",
        "            '''"
      ]
    },
    {
      "cell_type": "code",
      "execution_count": 15,
      "id": "rhvwaMDkoWTi",
      "metadata": {
        "id": "rhvwaMDkoWTi"
      },
      "outputs": [
        {
          "name": "stderr",
          "output_type": "stream",
          "text": [
            "C:\\Users\\kab27\\AppData\\Local\\Temp\\ipykernel_12832\\3761913292.py:1: UserWarning: pandas only supports SQLAlchemy connectable (engine/connection) or database string URI or sqlite3 DBAPI2 connection. Other DBAPI2 objects are not tested. Please consider using SQLAlchemy.\n",
            "  df_4_2 = pd.read_sql_query(query_4_2, connection)\n"
          ]
        },
        {
          "data": {
            "text/html": [
              "<div>\n",
              "<style scoped>\n",
              "    .dataframe tbody tr th:only-of-type {\n",
              "        vertical-align: middle;\n",
              "    }\n",
              "\n",
              "    .dataframe tbody tr th {\n",
              "        vertical-align: top;\n",
              "    }\n",
              "\n",
              "    .dataframe thead th {\n",
              "        text-align: right;\n",
              "    }\n",
              "</style>\n",
              "<table border=\"1\" class=\"dataframe\">\n",
              "  <thead>\n",
              "    <tr style=\"text-align: right;\">\n",
              "      <th></th>\n",
              "      <th>count</th>\n",
              "    </tr>\n",
              "  </thead>\n",
              "  <tbody>\n",
              "    <tr>\n",
              "      <th>0</th>\n",
              "      <td>24073</td>\n",
              "    </tr>\n",
              "  </tbody>\n",
              "</table>\n",
              "</div>"
            ],
            "text/plain": [
              "   count\n",
              "0  24073"
            ]
          },
          "execution_count": 15,
          "metadata": {},
          "output_type": "execute_result"
        }
      ],
      "source": [
        "df_4_2 = pd.read_sql_query(query_4_2, connection)\n",
        "df_4_2"
      ]
    },
    {
      "cell_type": "markdown",
      "id": "635c4d5d-f323-4c66-b428-50a088120aa0",
      "metadata": {
        "id": "635c4d5d-f323-4c66-b428-50a088120aa0"
      },
      "source": [
        "3. Найдите средние значения для нижней и верхней границы зарплатной вилки. Округлите значения до целого."
      ]
    },
    {
      "cell_type": "code",
      "execution_count": 16,
      "id": "603cdbe4-0ec3-4106-8eaf-c73fcdd29165",
      "metadata": {
        "id": "603cdbe4-0ec3-4106-8eaf-c73fcdd29165"
      },
      "outputs": [],
      "source": [
        "query_4_3 = f'''select \n",
        "                ROUND(AVG(salary_from)) as \"нижняя граница\",\n",
        "                ROUND(AVG(salary_to)) as \"верхняя граница\"\n",
        "            from public.vacancies\n",
        "            '''"
      ]
    },
    {
      "cell_type": "code",
      "execution_count": 17,
      "id": "pswpAb66ovZZ",
      "metadata": {
        "id": "pswpAb66ovZZ"
      },
      "outputs": [
        {
          "name": "stderr",
          "output_type": "stream",
          "text": [
            "C:\\Users\\kab27\\AppData\\Local\\Temp\\ipykernel_12832\\4169514055.py:1: UserWarning: pandas only supports SQLAlchemy connectable (engine/connection) or database string URI or sqlite3 DBAPI2 connection. Other DBAPI2 objects are not tested. Please consider using SQLAlchemy.\n",
            "  df_4_3 = pd.read_sql_query(query_4_3, connection)\n"
          ]
        },
        {
          "data": {
            "text/html": [
              "<div>\n",
              "<style scoped>\n",
              "    .dataframe tbody tr th:only-of-type {\n",
              "        vertical-align: middle;\n",
              "    }\n",
              "\n",
              "    .dataframe tbody tr th {\n",
              "        vertical-align: top;\n",
              "    }\n",
              "\n",
              "    .dataframe thead th {\n",
              "        text-align: right;\n",
              "    }\n",
              "</style>\n",
              "<table border=\"1\" class=\"dataframe\">\n",
              "  <thead>\n",
              "    <tr style=\"text-align: right;\">\n",
              "      <th></th>\n",
              "      <th>нижняя граница</th>\n",
              "      <th>верхняя граница</th>\n",
              "    </tr>\n",
              "  </thead>\n",
              "  <tbody>\n",
              "    <tr>\n",
              "      <th>0</th>\n",
              "      <td>71065.0</td>\n",
              "      <td>110537.0</td>\n",
              "    </tr>\n",
              "  </tbody>\n",
              "</table>\n",
              "</div>"
            ],
            "text/plain": [
              "   нижняя граница  верхняя граница\n",
              "0         71065.0         110537.0"
            ]
          },
          "execution_count": 17,
          "metadata": {},
          "output_type": "execute_result"
        }
      ],
      "source": [
        "df_4_3 = pd.read_sql_query(query_4_3, connection)\n",
        "df_4_3"
      ]
    },
    {
      "cell_type": "markdown",
      "id": "f3fdaec9-5fd3-4260-9cf5-1d7406b628a5",
      "metadata": {
        "id": "f3fdaec9-5fd3-4260-9cf5-1d7406b628a5"
      },
      "source": [
        "4. Напишите запрос, который выведет количество вакансий для каждого сочетания типа рабочего графика (schedule) и типа трудоустройства (employment), используемого в вакансиях. Результат отсортируйте по убыванию количества.\n"
      ]
    },
    {
      "cell_type": "code",
      "execution_count": 18,
      "id": "1ea710ec-871b-431e-9462-c7d0fd87011b",
      "metadata": {
        "id": "1ea710ec-871b-431e-9462-c7d0fd87011b"
      },
      "outputs": [],
      "source": [
        "query_4_4 = f'''select\n",
        "                schedule,\n",
        "                employment,\n",
        "                count(id)\n",
        "            from public.vacancies\n",
        "            GROUP BY schedule, employment\n",
        "            ORDER BY 3 desc\n",
        "            '''"
      ]
    },
    {
      "cell_type": "code",
      "execution_count": 19,
      "id": "lGUVqavdo4JQ",
      "metadata": {
        "id": "lGUVqavdo4JQ"
      },
      "outputs": [
        {
          "name": "stderr",
          "output_type": "stream",
          "text": [
            "C:\\Users\\kab27\\AppData\\Local\\Temp\\ipykernel_12832\\1636312543.py:1: UserWarning: pandas only supports SQLAlchemy connectable (engine/connection) or database string URI or sqlite3 DBAPI2 connection. Other DBAPI2 objects are not tested. Please consider using SQLAlchemy.\n",
            "  df_4_4 = pd.read_sql_query(query_4_4, connection)\n"
          ]
        },
        {
          "data": {
            "text/html": [
              "<div>\n",
              "<style scoped>\n",
              "    .dataframe tbody tr th:only-of-type {\n",
              "        vertical-align: middle;\n",
              "    }\n",
              "\n",
              "    .dataframe tbody tr th {\n",
              "        vertical-align: top;\n",
              "    }\n",
              "\n",
              "    .dataframe thead th {\n",
              "        text-align: right;\n",
              "    }\n",
              "</style>\n",
              "<table border=\"1\" class=\"dataframe\">\n",
              "  <thead>\n",
              "    <tr style=\"text-align: right;\">\n",
              "      <th></th>\n",
              "      <th>schedule</th>\n",
              "      <th>employment</th>\n",
              "      <th>count</th>\n",
              "    </tr>\n",
              "  </thead>\n",
              "  <tbody>\n",
              "    <tr>\n",
              "      <th>0</th>\n",
              "      <td>Полный день</td>\n",
              "      <td>Полная занятость</td>\n",
              "      <td>35367</td>\n",
              "    </tr>\n",
              "    <tr>\n",
              "      <th>1</th>\n",
              "      <td>Удаленная работа</td>\n",
              "      <td>Полная занятость</td>\n",
              "      <td>7802</td>\n",
              "    </tr>\n",
              "    <tr>\n",
              "      <th>2</th>\n",
              "      <td>Гибкий график</td>\n",
              "      <td>Полная занятость</td>\n",
              "      <td>1593</td>\n",
              "    </tr>\n",
              "    <tr>\n",
              "      <th>3</th>\n",
              "      <td>Удаленная работа</td>\n",
              "      <td>Частичная занятость</td>\n",
              "      <td>1312</td>\n",
              "    </tr>\n",
              "    <tr>\n",
              "      <th>4</th>\n",
              "      <td>Сменный график</td>\n",
              "      <td>Полная занятость</td>\n",
              "      <td>940</td>\n",
              "    </tr>\n",
              "    <tr>\n",
              "      <th>5</th>\n",
              "      <td>Полный день</td>\n",
              "      <td>Стажировка</td>\n",
              "      <td>569</td>\n",
              "    </tr>\n",
              "    <tr>\n",
              "      <th>6</th>\n",
              "      <td>Вахтовый метод</td>\n",
              "      <td>Полная занятость</td>\n",
              "      <td>367</td>\n",
              "    </tr>\n",
              "    <tr>\n",
              "      <th>7</th>\n",
              "      <td>Полный день</td>\n",
              "      <td>Частичная занятость</td>\n",
              "      <td>347</td>\n",
              "    </tr>\n",
              "    <tr>\n",
              "      <th>8</th>\n",
              "      <td>Гибкий график</td>\n",
              "      <td>Частичная занятость</td>\n",
              "      <td>312</td>\n",
              "    </tr>\n",
              "    <tr>\n",
              "      <th>9</th>\n",
              "      <td>Полный день</td>\n",
              "      <td>Проектная работа</td>\n",
              "      <td>141</td>\n",
              "    </tr>\n",
              "    <tr>\n",
              "      <th>10</th>\n",
              "      <td>Удаленная работа</td>\n",
              "      <td>Проектная работа</td>\n",
              "      <td>133</td>\n",
              "    </tr>\n",
              "    <tr>\n",
              "      <th>11</th>\n",
              "      <td>Гибкий график</td>\n",
              "      <td>Стажировка</td>\n",
              "      <td>116</td>\n",
              "    </tr>\n",
              "    <tr>\n",
              "      <th>12</th>\n",
              "      <td>Сменный график</td>\n",
              "      <td>Частичная занятость</td>\n",
              "      <td>101</td>\n",
              "    </tr>\n",
              "    <tr>\n",
              "      <th>13</th>\n",
              "      <td>Удаленная работа</td>\n",
              "      <td>Стажировка</td>\n",
              "      <td>64</td>\n",
              "    </tr>\n",
              "    <tr>\n",
              "      <th>14</th>\n",
              "      <td>Гибкий график</td>\n",
              "      <td>Проектная работа</td>\n",
              "      <td>18</td>\n",
              "    </tr>\n",
              "    <tr>\n",
              "      <th>15</th>\n",
              "      <td>Сменный график</td>\n",
              "      <td>Стажировка</td>\n",
              "      <td>12</td>\n",
              "    </tr>\n",
              "    <tr>\n",
              "      <th>16</th>\n",
              "      <td>Вахтовый метод</td>\n",
              "      <td>Проектная работа</td>\n",
              "      <td>2</td>\n",
              "    </tr>\n",
              "    <tr>\n",
              "      <th>17</th>\n",
              "      <td>Сменный график</td>\n",
              "      <td>Проектная работа</td>\n",
              "      <td>1</td>\n",
              "    </tr>\n",
              "  </tbody>\n",
              "</table>\n",
              "</div>"
            ],
            "text/plain": [
              "            schedule           employment  count\n",
              "0        Полный день     Полная занятость  35367\n",
              "1   Удаленная работа     Полная занятость   7802\n",
              "2      Гибкий график     Полная занятость   1593\n",
              "3   Удаленная работа  Частичная занятость   1312\n",
              "4     Сменный график     Полная занятость    940\n",
              "5        Полный день           Стажировка    569\n",
              "6     Вахтовый метод     Полная занятость    367\n",
              "7        Полный день  Частичная занятость    347\n",
              "8      Гибкий график  Частичная занятость    312\n",
              "9        Полный день     Проектная работа    141\n",
              "10  Удаленная работа     Проектная работа    133\n",
              "11     Гибкий график           Стажировка    116\n",
              "12    Сменный график  Частичная занятость    101\n",
              "13  Удаленная работа           Стажировка     64\n",
              "14     Гибкий график     Проектная работа     18\n",
              "15    Сменный график           Стажировка     12\n",
              "16    Вахтовый метод     Проектная работа      2\n",
              "17    Сменный график     Проектная работа      1"
            ]
          },
          "execution_count": 19,
          "metadata": {},
          "output_type": "execute_result"
        }
      ],
      "source": [
        "df_4_4 = pd.read_sql_query(query_4_4, connection)\n",
        "df_4_4"
      ]
    },
    {
      "cell_type": "markdown",
      "id": "0136ffee-0ead-4a6b-b608-61d1c753a438",
      "metadata": {
        "id": "0136ffee-0ead-4a6b-b608-61d1c753a438"
      },
      "source": [
        "5. Напишите запрос, выводящий значения поля Требуемый опыт работы (experience) в порядке возрастания количества вакансий, в которых указан данный вариант опыта. "
      ]
    },
    {
      "cell_type": "code",
      "execution_count": 20,
      "id": "5b3a8e79-f7ab-4008-b767-12aea3a205ea",
      "metadata": {
        "id": "5b3a8e79-f7ab-4008-b767-12aea3a205ea"
      },
      "outputs": [],
      "source": [
        "query_4_5 = f'''select\n",
        "                experience,\n",
        "                count(id)\n",
        "            from public.vacancies\n",
        "            GROUP BY experience\n",
        "            ORDER BY 2\n",
        "            '''"
      ]
    },
    {
      "cell_type": "code",
      "execution_count": 21,
      "id": "3Is64Y-hpDpq",
      "metadata": {
        "id": "3Is64Y-hpDpq"
      },
      "outputs": [
        {
          "name": "stderr",
          "output_type": "stream",
          "text": [
            "C:\\Users\\kab27\\AppData\\Local\\Temp\\ipykernel_12832\\802873672.py:1: UserWarning: pandas only supports SQLAlchemy connectable (engine/connection) or database string URI or sqlite3 DBAPI2 connection. Other DBAPI2 objects are not tested. Please consider using SQLAlchemy.\n",
            "  df_4_5 = pd.read_sql_query(query_4_5, connection)\n"
          ]
        },
        {
          "data": {
            "text/html": [
              "<div>\n",
              "<style scoped>\n",
              "    .dataframe tbody tr th:only-of-type {\n",
              "        vertical-align: middle;\n",
              "    }\n",
              "\n",
              "    .dataframe tbody tr th {\n",
              "        vertical-align: top;\n",
              "    }\n",
              "\n",
              "    .dataframe thead th {\n",
              "        text-align: right;\n",
              "    }\n",
              "</style>\n",
              "<table border=\"1\" class=\"dataframe\">\n",
              "  <thead>\n",
              "    <tr style=\"text-align: right;\">\n",
              "      <th></th>\n",
              "      <th>experience</th>\n",
              "      <th>count</th>\n",
              "    </tr>\n",
              "  </thead>\n",
              "  <tbody>\n",
              "    <tr>\n",
              "      <th>0</th>\n",
              "      <td>Более 6 лет</td>\n",
              "      <td>1337</td>\n",
              "    </tr>\n",
              "    <tr>\n",
              "      <th>1</th>\n",
              "      <td>Нет опыта</td>\n",
              "      <td>7197</td>\n",
              "    </tr>\n",
              "    <tr>\n",
              "      <th>2</th>\n",
              "      <td>От 3 до 6 лет</td>\n",
              "      <td>14511</td>\n",
              "    </tr>\n",
              "    <tr>\n",
              "      <th>3</th>\n",
              "      <td>От 1 года до 3 лет</td>\n",
              "      <td>26152</td>\n",
              "    </tr>\n",
              "  </tbody>\n",
              "</table>\n",
              "</div>"
            ],
            "text/plain": [
              "           experience  count\n",
              "0         Более 6 лет   1337\n",
              "1           Нет опыта   7197\n",
              "2       От 3 до 6 лет  14511\n",
              "3  От 1 года до 3 лет  26152"
            ]
          },
          "execution_count": 21,
          "metadata": {},
          "output_type": "execute_result"
        }
      ],
      "source": [
        "df_4_5 = pd.read_sql_query(query_4_5, connection)\n",
        "df_4_5"
      ]
    },
    {
      "cell_type": "markdown",
      "id": "oq2b7n1QpIka",
      "metadata": {
        "id": "oq2b7n1QpIka"
      },
      "source": [
        "***"
      ]
    },
    {
      "attachments": {},
      "cell_type": "markdown",
      "id": "e7a7b6b8",
      "metadata": {},
      "source": [
        "Чем крупнее город тем больше вакансий расположено в этом регионе.\n",
        "В половине вакансий не указан уровень зарплаты.\n",
        "Больше всего вакансий с графиком работы - \"Полный день\" и тим трудоустройства \"Полная занятость\".\n",
        "Наиболее востребованы специалисты с опытом работы от 1 года до 3 лет."
      ]
    },
    {
      "cell_type": "markdown",
      "id": "7ea20ab6-04a7-40a0-adec-443a0e5a42c3",
      "metadata": {
        "id": "7ea20ab6-04a7-40a0-adec-443a0e5a42c3"
      },
      "source": [
        "# Юнит 5. Анализ работодателей"
      ]
    },
    {
      "cell_type": "markdown",
      "id": "968aed80-74ef-4ffb-b5bf-c65b84e9caea",
      "metadata": {
        "id": "968aed80-74ef-4ffb-b5bf-c65b84e9caea"
      },
      "source": [
        "1. Напишите запрос, который позволит узнать, какие работодатели находятся на первом и пятом месте по количеству вакансий."
      ]
    },
    {
      "cell_type": "code",
      "execution_count": 23,
      "id": "f2d62796-d400-4ec1-a675-88112739a50e",
      "metadata": {
        "id": "f2d62796-d400-4ec1-a675-88112739a50e"
      },
      "outputs": [],
      "source": [
        "query_5_1 = f'''(select\n",
        "                e.name,\n",
        "                count(v.id) vacancies\n",
        "            from public.employers e\n",
        "                JOIN public.vacancies v on v.employer_id = e.id\n",
        "            GROUP BY e.name\n",
        "            ORDER BY count(v.id) desc\n",
        "            limit 1)\n",
        "            UNION all\n",
        "            (select\n",
        "                e.name,\n",
        "                count(v.id) vacancies\n",
        "            from public.employers e\n",
        "                JOIN public.vacancies v on v.employer_id = e.id\n",
        "            GROUP BY e.name\n",
        "            ORDER BY count(v.id) desc\n",
        "            OFFSET 4 limit 1)\n",
        "            '''"
      ]
    },
    {
      "cell_type": "code",
      "execution_count": 24,
      "id": "64tOMkAxqkQk",
      "metadata": {
        "id": "64tOMkAxqkQk"
      },
      "outputs": [
        {
          "name": "stderr",
          "output_type": "stream",
          "text": [
            "C:\\Users\\kab27\\AppData\\Local\\Temp\\ipykernel_12832\\2705250063.py:1: UserWarning: pandas only supports SQLAlchemy connectable (engine/connection) or database string URI or sqlite3 DBAPI2 connection. Other DBAPI2 objects are not tested. Please consider using SQLAlchemy.\n",
            "  df_5_1 = pd.read_sql_query(query_5_1, connection)\n"
          ]
        },
        {
          "data": {
            "text/html": [
              "<div>\n",
              "<style scoped>\n",
              "    .dataframe tbody tr th:only-of-type {\n",
              "        vertical-align: middle;\n",
              "    }\n",
              "\n",
              "    .dataframe tbody tr th {\n",
              "        vertical-align: top;\n",
              "    }\n",
              "\n",
              "    .dataframe thead th {\n",
              "        text-align: right;\n",
              "    }\n",
              "</style>\n",
              "<table border=\"1\" class=\"dataframe\">\n",
              "  <thead>\n",
              "    <tr style=\"text-align: right;\">\n",
              "      <th></th>\n",
              "      <th>name</th>\n",
              "      <th>vacancies</th>\n",
              "    </tr>\n",
              "  </thead>\n",
              "  <tbody>\n",
              "    <tr>\n",
              "      <th>0</th>\n",
              "      <td>Яндекс</td>\n",
              "      <td>1933</td>\n",
              "    </tr>\n",
              "    <tr>\n",
              "      <th>1</th>\n",
              "      <td>Газпром нефть</td>\n",
              "      <td>331</td>\n",
              "    </tr>\n",
              "  </tbody>\n",
              "</table>\n",
              "</div>"
            ],
            "text/plain": [
              "            name  vacancies\n",
              "0         Яндекс       1933\n",
              "1  Газпром нефть        331"
            ]
          },
          "metadata": {},
          "output_type": "display_data"
        }
      ],
      "source": [
        "df_5_1 = pd.read_sql_query(query_5_1, connection)\n",
        "display(df_5_1)"
      ]
    },
    {
      "cell_type": "markdown",
      "id": "68377cfc-b378-43dc-ab7d-1195abf2c515",
      "metadata": {
        "id": "68377cfc-b378-43dc-ab7d-1195abf2c515"
      },
      "source": [
        "2. Напишите запрос, который для каждого региона выведет количество работодателей и вакансий в нём.\n",
        "Среди регионов, в которых нет вакансий, найдите тот, в котором наибольшее количество работодателей.\n"
      ]
    },
    {
      "cell_type": "code",
      "execution_count": 25,
      "id": "dd7df27a-e3e8-412e-a21a-5d389b71e891",
      "metadata": {
        "id": "dd7df27a-e3e8-412e-a21a-5d389b71e891"
      },
      "outputs": [],
      "source": [
        "query_5_2 = f'''select\n",
        "                a.name,\n",
        "                count(e.id) employesrs,\n",
        "                count(v.id) vacancies\n",
        "            from public.areas a\n",
        "                LEFT JOIN public.employers e on e.area = a.id\n",
        "                LEFT JOIN public.vacancies v on v.area_id = a.id\n",
        "            WHERE v.id is null\n",
        "            GROUP BY a.name\n",
        "            ORDER BY count(e.id) desc\n",
        "            '''"
      ]
    },
    {
      "cell_type": "code",
      "execution_count": 26,
      "id": "x1ikWbydrbf6",
      "metadata": {
        "id": "x1ikWbydrbf6"
      },
      "outputs": [
        {
          "name": "stderr",
          "output_type": "stream",
          "text": [
            "C:\\Users\\kab27\\AppData\\Local\\Temp\\ipykernel_12832\\2401764445.py:1: UserWarning: pandas only supports SQLAlchemy connectable (engine/connection) or database string URI or sqlite3 DBAPI2 connection. Other DBAPI2 objects are not tested. Please consider using SQLAlchemy.\n",
            "  df_5_2 = pd.read_sql_query(query_5_2, connection)\n"
          ]
        },
        {
          "data": {
            "text/html": [
              "<div>\n",
              "<style scoped>\n",
              "    .dataframe tbody tr th:only-of-type {\n",
              "        vertical-align: middle;\n",
              "    }\n",
              "\n",
              "    .dataframe tbody tr th {\n",
              "        vertical-align: top;\n",
              "    }\n",
              "\n",
              "    .dataframe thead th {\n",
              "        text-align: right;\n",
              "    }\n",
              "</style>\n",
              "<table border=\"1\" class=\"dataframe\">\n",
              "  <thead>\n",
              "    <tr style=\"text-align: right;\">\n",
              "      <th></th>\n",
              "      <th>name</th>\n",
              "      <th>employesrs</th>\n",
              "      <th>vacancies</th>\n",
              "    </tr>\n",
              "  </thead>\n",
              "  <tbody>\n",
              "    <tr>\n",
              "      <th>0</th>\n",
              "      <td>Россия</td>\n",
              "      <td>410</td>\n",
              "      <td>0</td>\n",
              "    </tr>\n",
              "    <tr>\n",
              "      <th>1</th>\n",
              "      <td>Казахстан</td>\n",
              "      <td>207</td>\n",
              "      <td>0</td>\n",
              "    </tr>\n",
              "    <tr>\n",
              "      <th>2</th>\n",
              "      <td>Московская область</td>\n",
              "      <td>75</td>\n",
              "      <td>0</td>\n",
              "    </tr>\n",
              "    <tr>\n",
              "      <th>3</th>\n",
              "      <td>Краснодарский край</td>\n",
              "      <td>19</td>\n",
              "      <td>0</td>\n",
              "    </tr>\n",
              "    <tr>\n",
              "      <th>4</th>\n",
              "      <td>Беларусь</td>\n",
              "      <td>18</td>\n",
              "      <td>0</td>\n",
              "    </tr>\n",
              "    <tr>\n",
              "      <th>...</th>\n",
              "      <td>...</td>\n",
              "      <td>...</td>\n",
              "      <td>...</td>\n",
              "    </tr>\n",
              "    <tr>\n",
              "      <th>588</th>\n",
              "      <td>Кувандык</td>\n",
              "      <td>0</td>\n",
              "      <td>0</td>\n",
              "    </tr>\n",
              "    <tr>\n",
              "      <th>589</th>\n",
              "      <td>Куйбышев</td>\n",
              "      <td>0</td>\n",
              "      <td>0</td>\n",
              "    </tr>\n",
              "    <tr>\n",
              "      <th>590</th>\n",
              "      <td>Куйбышево (Ростовская область)</td>\n",
              "      <td>0</td>\n",
              "      <td>0</td>\n",
              "    </tr>\n",
              "    <tr>\n",
              "      <th>591</th>\n",
              "      <td>Култаево</td>\n",
              "      <td>0</td>\n",
              "      <td>0</td>\n",
              "    </tr>\n",
              "    <tr>\n",
              "      <th>592</th>\n",
              "      <td>Кульсары</td>\n",
              "      <td>0</td>\n",
              "      <td>0</td>\n",
              "    </tr>\n",
              "  </tbody>\n",
              "</table>\n",
              "<p>593 rows × 3 columns</p>\n",
              "</div>"
            ],
            "text/plain": [
              "                               name  employesrs  vacancies\n",
              "0                            Россия         410          0\n",
              "1                         Казахстан         207          0\n",
              "2                Московская область          75          0\n",
              "3                Краснодарский край          19          0\n",
              "4                          Беларусь          18          0\n",
              "..                              ...         ...        ...\n",
              "588                        Кувандык           0          0\n",
              "589                        Куйбышев           0          0\n",
              "590  Куйбышево (Ростовская область)           0          0\n",
              "591                        Култаево           0          0\n",
              "592                        Кульсары           0          0\n",
              "\n",
              "[593 rows x 3 columns]"
            ]
          },
          "metadata": {},
          "output_type": "display_data"
        }
      ],
      "source": [
        "df_5_2 = pd.read_sql_query(query_5_2, connection)\n",
        "display(df_5_2)"
      ]
    },
    {
      "cell_type": "markdown",
      "id": "f2fe0acb-ab1a-4e15-9326-2560e22d73c1",
      "metadata": {
        "id": "f2fe0acb-ab1a-4e15-9326-2560e22d73c1"
      },
      "source": [
        "3. Для каждого работодателя посчитайте количество регионов, в которых он публикует свои вакансии. Отсортируйте результат по убыванию количества.\n"
      ]
    },
    {
      "cell_type": "code",
      "execution_count": 27,
      "id": "6271f8ad-bd2e-4196-ae4a-5b39c4c1010e",
      "metadata": {
        "id": "6271f8ad-bd2e-4196-ae4a-5b39c4c1010e"
      },
      "outputs": [],
      "source": [
        "query_5_3 = f'''select\n",
        "                e.id,\n",
        "                count(distinct v.area_id) areas\n",
        "            from public.employers e\n",
        "                LEFT JOIN public.vacancies v on v.employer_id = e.id\n",
        "            GROUP BY e.id\n",
        "            ORDER BY count(v.area_id) desc\n",
        "            '''"
      ]
    },
    {
      "cell_type": "code",
      "execution_count": 28,
      "id": "1EIvX3HasH4F",
      "metadata": {
        "id": "1EIvX3HasH4F"
      },
      "outputs": [
        {
          "name": "stderr",
          "output_type": "stream",
          "text": [
            "C:\\Users\\kab27\\AppData\\Local\\Temp\\ipykernel_12832\\596095100.py:1: UserWarning: pandas only supports SQLAlchemy connectable (engine/connection) or database string URI or sqlite3 DBAPI2 connection. Other DBAPI2 objects are not tested. Please consider using SQLAlchemy.\n",
            "  df_5_3 = pd.read_sql_query(query_5_3, connection)\n"
          ]
        },
        {
          "data": {
            "text/html": [
              "<div>\n",
              "<style scoped>\n",
              "    .dataframe tbody tr th:only-of-type {\n",
              "        vertical-align: middle;\n",
              "    }\n",
              "\n",
              "    .dataframe tbody tr th {\n",
              "        vertical-align: top;\n",
              "    }\n",
              "\n",
              "    .dataframe thead th {\n",
              "        text-align: right;\n",
              "    }\n",
              "</style>\n",
              "<table border=\"1\" class=\"dataframe\">\n",
              "  <thead>\n",
              "    <tr style=\"text-align: right;\">\n",
              "      <th></th>\n",
              "      <th>id</th>\n",
              "      <th>areas</th>\n",
              "    </tr>\n",
              "  </thead>\n",
              "  <tbody>\n",
              "    <tr>\n",
              "      <th>0</th>\n",
              "      <td>1740</td>\n",
              "      <td>181</td>\n",
              "    </tr>\n",
              "    <tr>\n",
              "      <th>1</th>\n",
              "      <td>2748</td>\n",
              "      <td>152</td>\n",
              "    </tr>\n",
              "    <tr>\n",
              "      <th>2</th>\n",
              "      <td>78638</td>\n",
              "      <td>43</td>\n",
              "    </tr>\n",
              "    <tr>\n",
              "      <th>3</th>\n",
              "      <td>3529</td>\n",
              "      <td>24</td>\n",
              "    </tr>\n",
              "    <tr>\n",
              "      <th>4</th>\n",
              "      <td>39305</td>\n",
              "      <td>24</td>\n",
              "    </tr>\n",
              "    <tr>\n",
              "      <th>...</th>\n",
              "      <td>...</td>\n",
              "      <td>...</td>\n",
              "    </tr>\n",
              "    <tr>\n",
              "      <th>23496</th>\n",
              "      <td>5970935</td>\n",
              "      <td>0</td>\n",
              "    </tr>\n",
              "    <tr>\n",
              "      <th>23497</th>\n",
              "      <td>5524047</td>\n",
              "      <td>0</td>\n",
              "    </tr>\n",
              "    <tr>\n",
              "      <th>23498</th>\n",
              "      <td>3601</td>\n",
              "      <td>0</td>\n",
              "    </tr>\n",
              "    <tr>\n",
              "      <th>23499</th>\n",
              "      <td>5971105</td>\n",
              "      <td>0</td>\n",
              "    </tr>\n",
              "    <tr>\n",
              "      <th>23500</th>\n",
              "      <td>320</td>\n",
              "      <td>0</td>\n",
              "    </tr>\n",
              "  </tbody>\n",
              "</table>\n",
              "<p>23501 rows × 2 columns</p>\n",
              "</div>"
            ],
            "text/plain": [
              "            id  areas\n",
              "0         1740    181\n",
              "1         2748    152\n",
              "2        78638     43\n",
              "3         3529     24\n",
              "4        39305     24\n",
              "...        ...    ...\n",
              "23496  5970935      0\n",
              "23497  5524047      0\n",
              "23498     3601      0\n",
              "23499  5971105      0\n",
              "23500      320      0\n",
              "\n",
              "[23501 rows x 2 columns]"
            ]
          },
          "metadata": {},
          "output_type": "display_data"
        }
      ],
      "source": [
        "df_5_3 = pd.read_sql_query(query_5_3, connection)\n",
        "display(df_5_3)"
      ]
    },
    {
      "cell_type": "markdown",
      "id": "eab2206d-d95b-468b-8e5f-34381abf0ce7",
      "metadata": {
        "id": "eab2206d-d95b-468b-8e5f-34381abf0ce7"
      },
      "source": [
        "4. Напишите запрос для подсчёта количества работодателей, у которых не указана сфера деятельности. "
      ]
    },
    {
      "cell_type": "code",
      "execution_count": 29,
      "id": "80defb23-bfb1-4a18-8be6-bf36aa7165d5",
      "metadata": {
        "id": "80defb23-bfb1-4a18-8be6-bf36aa7165d5"
      },
      "outputs": [],
      "source": [
        "query_5_4 = f'''select\n",
        "                count(distinct e.id)\n",
        "            from public.employers e\n",
        "                LEFT JOIN public.employers_industries ei on ei.employer_id = e.id\n",
        "            WHERE industry_id is null\n",
        "            '''"
      ]
    },
    {
      "cell_type": "code",
      "execution_count": 30,
      "id": "Dp_yCx6ysQSu",
      "metadata": {
        "id": "Dp_yCx6ysQSu"
      },
      "outputs": [
        {
          "name": "stderr",
          "output_type": "stream",
          "text": [
            "C:\\Users\\kab27\\AppData\\Local\\Temp\\ipykernel_12832\\3722588189.py:1: UserWarning: pandas only supports SQLAlchemy connectable (engine/connection) or database string URI or sqlite3 DBAPI2 connection. Other DBAPI2 objects are not tested. Please consider using SQLAlchemy.\n",
            "  df_5_4 = pd.read_sql_query(query_5_4, connection)\n"
          ]
        },
        {
          "data": {
            "text/html": [
              "<div>\n",
              "<style scoped>\n",
              "    .dataframe tbody tr th:only-of-type {\n",
              "        vertical-align: middle;\n",
              "    }\n",
              "\n",
              "    .dataframe tbody tr th {\n",
              "        vertical-align: top;\n",
              "    }\n",
              "\n",
              "    .dataframe thead th {\n",
              "        text-align: right;\n",
              "    }\n",
              "</style>\n",
              "<table border=\"1\" class=\"dataframe\">\n",
              "  <thead>\n",
              "    <tr style=\"text-align: right;\">\n",
              "      <th></th>\n",
              "      <th>count</th>\n",
              "    </tr>\n",
              "  </thead>\n",
              "  <tbody>\n",
              "    <tr>\n",
              "      <th>0</th>\n",
              "      <td>8419</td>\n",
              "    </tr>\n",
              "  </tbody>\n",
              "</table>\n",
              "</div>"
            ],
            "text/plain": [
              "   count\n",
              "0   8419"
            ]
          },
          "metadata": {},
          "output_type": "display_data"
        }
      ],
      "source": [
        "df_5_4 = pd.read_sql_query(query_5_4, connection)\n",
        "display(df_5_4)"
      ]
    },
    {
      "cell_type": "markdown",
      "id": "0112af31-f6b0-4e3b-82ab-71296e752e5e",
      "metadata": {
        "id": "0112af31-f6b0-4e3b-82ab-71296e752e5e"
      },
      "source": [
        "5. Напишите запрос, чтобы узнать название компании, находящейся на третьем месте в алфавитном списке (по названию) компаний, у которых указано четыре сферы деятельности. "
      ]
    },
    {
      "cell_type": "code",
      "execution_count": 31,
      "id": "973b0cfc-a972-470a-8b4a-68744ef220c4",
      "metadata": {
        "id": "973b0cfc-a972-470a-8b4a-68744ef220c4"
      },
      "outputs": [],
      "source": [
        "query_5_5 = f'''select\n",
        "                e.name\n",
        "            from public.employers e\n",
        "                LEFT JOIN public.employers_industries ei on ei.employer_id = e.id\n",
        "            GROUP BY e.name\n",
        "            HAVING COUNT(ei.industry_id)=4\n",
        "            Order BY 1\n",
        "            OFFSET 2 LIMIT 1\n",
        "            '''"
      ]
    },
    {
      "cell_type": "code",
      "execution_count": 32,
      "id": "xsPtpp8EsaED",
      "metadata": {
        "id": "xsPtpp8EsaED"
      },
      "outputs": [
        {
          "name": "stderr",
          "output_type": "stream",
          "text": [
            "C:\\Users\\kab27\\AppData\\Local\\Temp\\ipykernel_12832\\3881363819.py:1: UserWarning: pandas only supports SQLAlchemy connectable (engine/connection) or database string URI or sqlite3 DBAPI2 connection. Other DBAPI2 objects are not tested. Please consider using SQLAlchemy.\n",
            "  df_5_5 = pd.read_sql_query(query_5_5, connection)\n"
          ]
        },
        {
          "data": {
            "text/html": [
              "<div>\n",
              "<style scoped>\n",
              "    .dataframe tbody tr th:only-of-type {\n",
              "        vertical-align: middle;\n",
              "    }\n",
              "\n",
              "    .dataframe tbody tr th {\n",
              "        vertical-align: top;\n",
              "    }\n",
              "\n",
              "    .dataframe thead th {\n",
              "        text-align: right;\n",
              "    }\n",
              "</style>\n",
              "<table border=\"1\" class=\"dataframe\">\n",
              "  <thead>\n",
              "    <tr style=\"text-align: right;\">\n",
              "      <th></th>\n",
              "      <th>name</th>\n",
              "    </tr>\n",
              "  </thead>\n",
              "  <tbody>\n",
              "    <tr>\n",
              "      <th>0</th>\n",
              "      <td>2ГИС</td>\n",
              "    </tr>\n",
              "  </tbody>\n",
              "</table>\n",
              "</div>"
            ],
            "text/plain": [
              "   name\n",
              "0  2ГИС"
            ]
          },
          "metadata": {},
          "output_type": "display_data"
        }
      ],
      "source": [
        "df_5_5 = pd.read_sql_query(query_5_5, connection)\n",
        "display(df_5_5)"
      ]
    },
    {
      "cell_type": "markdown",
      "id": "3bfcfdaf-755d-4d2b-8ed8-326201dc07ab",
      "metadata": {
        "id": "3bfcfdaf-755d-4d2b-8ed8-326201dc07ab"
      },
      "source": [
        "6. С помощью запроса выясните, у какого количества работодателей в качестве сферы деятельности указана Разработка программного обеспечения.\n"
      ]
    },
    {
      "cell_type": "code",
      "execution_count": 33,
      "id": "ad3f270f-2991-47eb-929b-e8f88a55b0d1",
      "metadata": {
        "id": "ad3f270f-2991-47eb-929b-e8f88a55b0d1"
      },
      "outputs": [],
      "source": [
        "query_5_6 = f'''select\n",
        "                COUNT(distinct e.id)\n",
        "            from public.employers e\n",
        "                LEFT JOIN public.employers_industries ei on ei.employer_id = e.id\n",
        "                LEFT JOIN public.industries i on i.id = ei.industry_id\n",
        "            WHERE i.name='Разработка программного обеспечения'\n",
        "            '''"
      ]
    },
    {
      "cell_type": "code",
      "execution_count": 34,
      "id": "H72qxWM0shPR",
      "metadata": {
        "id": "H72qxWM0shPR"
      },
      "outputs": [
        {
          "name": "stderr",
          "output_type": "stream",
          "text": [
            "C:\\Users\\kab27\\AppData\\Local\\Temp\\ipykernel_12832\\2900473628.py:1: UserWarning: pandas only supports SQLAlchemy connectable (engine/connection) or database string URI or sqlite3 DBAPI2 connection. Other DBAPI2 objects are not tested. Please consider using SQLAlchemy.\n",
            "  df_5_6 = pd.read_sql_query(query_5_6, connection)\n"
          ]
        },
        {
          "data": {
            "text/html": [
              "<div>\n",
              "<style scoped>\n",
              "    .dataframe tbody tr th:only-of-type {\n",
              "        vertical-align: middle;\n",
              "    }\n",
              "\n",
              "    .dataframe tbody tr th {\n",
              "        vertical-align: top;\n",
              "    }\n",
              "\n",
              "    .dataframe thead th {\n",
              "        text-align: right;\n",
              "    }\n",
              "</style>\n",
              "<table border=\"1\" class=\"dataframe\">\n",
              "  <thead>\n",
              "    <tr style=\"text-align: right;\">\n",
              "      <th></th>\n",
              "      <th>count</th>\n",
              "    </tr>\n",
              "  </thead>\n",
              "  <tbody>\n",
              "    <tr>\n",
              "      <th>0</th>\n",
              "      <td>3553</td>\n",
              "    </tr>\n",
              "  </tbody>\n",
              "</table>\n",
              "</div>"
            ],
            "text/plain": [
              "   count\n",
              "0   3553"
            ]
          },
          "metadata": {},
          "output_type": "display_data"
        }
      ],
      "source": [
        "df_5_6 = pd.read_sql_query(query_5_6, connection)\n",
        "display(df_5_6)"
      ]
    },
    {
      "cell_type": "markdown",
      "id": "7b02bb86-0546-40fb-94a4-242f050a5c57",
      "metadata": {
        "id": "7b02bb86-0546-40fb-94a4-242f050a5c57"
      },
      "source": [
        "7. Для компании «Яндекс» выведите список регионов-миллионников, в которых представлены вакансии компании, вместе с количеством вакансий в этих регионах. Также добавьте строку Total с общим количеством вакансий компании. Результат отсортируйте по возрастанию количества.\n",
        "\n",
        "Список городов-милионников надо взять [отсюда](https://ru.wikipedia.org/wiki/%D0%93%D0%BE%D1%80%D0%BE%D0%B4%D0%B0-%D0%BC%D0%B8%D0%BB%D0%BB%D0%B8%D0%BE%D0%BD%D0%B5%D1%80%D1%8B_%D0%A0%D0%BE%D1%81%D1%81%D0%B8%D0%B8). \n",
        "\n",
        "Если возникнут трудности с этим задание посмотрите материалы модуля  PYTHON-17. Как получать данные из веб-источников и API. "
      ]
    },
    {
      "cell_type": "code",
      "execution_count": 35,
      "id": "ZdfrL6gIs1Pn",
      "metadata": {
        "id": "ZdfrL6gIs1Pn"
      },
      "outputs": [
        {
          "data": {
            "text/plain": [
              "('Москва',\n",
              " 'Санкт-Петербург',\n",
              " 'Новосибирск',\n",
              " 'Екатеринбург',\n",
              " 'Казань',\n",
              " 'Нижний Новгород',\n",
              " 'Красноярск',\n",
              " 'Челябинск',\n",
              " 'Самара',\n",
              " 'Уфа',\n",
              " 'Ростов-на-Дону',\n",
              " 'Омск',\n",
              " 'Краснодар',\n",
              " 'Воронеж',\n",
              " 'Пермь',\n",
              " 'Волгоград')"
            ]
          },
          "execution_count": 35,
          "metadata": {},
          "output_type": "execute_result"
        }
      ],
      "source": [
        "url = 'https://ru.wikipedia.org/wiki/%D0%93%D0%BE%D1%80%D0%BE%D0%B4%D0%B0-%D0%BC%D0%B8%D0%BB%D0%BB%D0%B8%D0%BE%D0%BD%D0%B5%D1%80%D1%8B_%D0%A0%D0%BE%D1%81%D1%81%D0%B8%D0%B8'\n",
        "table = pd.read_html(url)\n",
        "mill_cities = pd.DataFrame(table[1])\n",
        "mill_cities = tuple(mill_cities['Город'].replace('Воронеж[a]', 'Воронеж'))\n",
        "mill_cities\n",
        "\n",
        "\n",
        "\n",
        "\n"
      ]
    },
    {
      "cell_type": "code",
      "execution_count": 36,
      "id": "5a0e32a4-e68a-4365-8a39-2fe24c542c36",
      "metadata": {
        "id": "5a0e32a4-e68a-4365-8a39-2fe24c542c36"
      },
      "outputs": [],
      "source": [
        "query_5_7 = f'''select\n",
        "                    a.name,\n",
        "                    count(*) cnt\n",
        "                from public.employers e\n",
        "                JOIN public.vacancies v on v.employer_id = e.id\n",
        "                JOIN public.areas a on a.id = v.area_id\n",
        "                WHERE a.name in {mill_cities} and e.name = 'Яндекс'\n",
        "                GROUP BY a.id\n",
        "                \n",
        "                UNION ALL\n",
        "                \n",
        "                select\n",
        "                    'Total', count(*)\n",
        "                from public.vacancies v\n",
        "                JOIN public.employers e ON e.id = v.employer_id\n",
        "                JOIN public.areas a ON a.id = v.area_id\n",
        "                WHERE a.name in {mill_cities} and e.name = 'Яндекс'\n",
        "                '''"
      ]
    },
    {
      "cell_type": "code",
      "execution_count": 37,
      "id": "ttPhiO1rsvPq",
      "metadata": {
        "id": "ttPhiO1rsvPq"
      },
      "outputs": [
        {
          "name": "stderr",
          "output_type": "stream",
          "text": [
            "C:\\Users\\kab27\\AppData\\Local\\Temp\\ipykernel_12832\\3666685428.py:1: UserWarning: pandas only supports SQLAlchemy connectable (engine/connection) or database string URI or sqlite3 DBAPI2 connection. Other DBAPI2 objects are not tested. Please consider using SQLAlchemy.\n",
            "  df_5_7 = pd.read_sql_query(query_5_7, connection)\n"
          ]
        },
        {
          "data": {
            "text/html": [
              "<div>\n",
              "<style scoped>\n",
              "    .dataframe tbody tr th:only-of-type {\n",
              "        vertical-align: middle;\n",
              "    }\n",
              "\n",
              "    .dataframe tbody tr th {\n",
              "        vertical-align: top;\n",
              "    }\n",
              "\n",
              "    .dataframe thead th {\n",
              "        text-align: right;\n",
              "    }\n",
              "</style>\n",
              "<table border=\"1\" class=\"dataframe\">\n",
              "  <thead>\n",
              "    <tr style=\"text-align: right;\">\n",
              "      <th></th>\n",
              "      <th>name</th>\n",
              "      <th>cnt</th>\n",
              "    </tr>\n",
              "  </thead>\n",
              "  <tbody>\n",
              "    <tr>\n",
              "      <th>0</th>\n",
              "      <td>Total</td>\n",
              "      <td>485</td>\n",
              "    </tr>\n",
              "    <tr>\n",
              "      <th>1</th>\n",
              "      <td>Москва</td>\n",
              "      <td>54</td>\n",
              "    </tr>\n",
              "    <tr>\n",
              "      <th>2</th>\n",
              "      <td>Санкт-Петербург</td>\n",
              "      <td>42</td>\n",
              "    </tr>\n",
              "    <tr>\n",
              "      <th>3</th>\n",
              "      <td>Екатеринбург</td>\n",
              "      <td>39</td>\n",
              "    </tr>\n",
              "    <tr>\n",
              "      <th>4</th>\n",
              "      <td>Новосибирск</td>\n",
              "      <td>35</td>\n",
              "    </tr>\n",
              "    <tr>\n",
              "      <th>5</th>\n",
              "      <td>Волгоград</td>\n",
              "      <td>24</td>\n",
              "    </tr>\n",
              "    <tr>\n",
              "      <th>6</th>\n",
              "      <td>Воронеж</td>\n",
              "      <td>32</td>\n",
              "    </tr>\n",
              "    <tr>\n",
              "      <th>7</th>\n",
              "      <td>Краснодар</td>\n",
              "      <td>30</td>\n",
              "    </tr>\n",
              "    <tr>\n",
              "      <th>8</th>\n",
              "      <td>Красноярск</td>\n",
              "      <td>23</td>\n",
              "    </tr>\n",
              "    <tr>\n",
              "      <th>9</th>\n",
              "      <td>Нижний Новгород</td>\n",
              "      <td>36</td>\n",
              "    </tr>\n",
              "    <tr>\n",
              "      <th>10</th>\n",
              "      <td>Омск</td>\n",
              "      <td>21</td>\n",
              "    </tr>\n",
              "    <tr>\n",
              "      <th>11</th>\n",
              "      <td>Пермь</td>\n",
              "      <td>25</td>\n",
              "    </tr>\n",
              "    <tr>\n",
              "      <th>12</th>\n",
              "      <td>Ростов-на-Дону</td>\n",
              "      <td>25</td>\n",
              "    </tr>\n",
              "    <tr>\n",
              "      <th>13</th>\n",
              "      <td>Самара</td>\n",
              "      <td>26</td>\n",
              "    </tr>\n",
              "    <tr>\n",
              "      <th>14</th>\n",
              "      <td>Казань</td>\n",
              "      <td>25</td>\n",
              "    </tr>\n",
              "    <tr>\n",
              "      <th>15</th>\n",
              "      <td>Уфа</td>\n",
              "      <td>26</td>\n",
              "    </tr>\n",
              "    <tr>\n",
              "      <th>16</th>\n",
              "      <td>Челябинск</td>\n",
              "      <td>22</td>\n",
              "    </tr>\n",
              "  </tbody>\n",
              "</table>\n",
              "</div>"
            ],
            "text/plain": [
              "               name  cnt\n",
              "0             Total  485\n",
              "1            Москва   54\n",
              "2   Санкт-Петербург   42\n",
              "3      Екатеринбург   39\n",
              "4       Новосибирск   35\n",
              "5         Волгоград   24\n",
              "6           Воронеж   32\n",
              "7         Краснодар   30\n",
              "8        Красноярск   23\n",
              "9   Нижний Новгород   36\n",
              "10             Омск   21\n",
              "11            Пермь   25\n",
              "12   Ростов-на-Дону   25\n",
              "13           Самара   26\n",
              "14           Казань   25\n",
              "15              Уфа   26\n",
              "16        Челябинск   22"
            ]
          },
          "metadata": {},
          "output_type": "display_data"
        }
      ],
      "source": [
        "df_5_7 = pd.read_sql_query(query_5_7, connection)\n",
        "display(df_5_7)"
      ]
    },
    {
      "cell_type": "markdown",
      "id": "04966e40-3bc3-4dc8-9ba2-e80580ce3abc",
      "metadata": {
        "id": "04966e40-3bc3-4dc8-9ba2-e80580ce3abc"
      },
      "source": [
        "***"
      ]
    },
    {
      "attachments": {},
      "cell_type": "markdown",
      "id": "a066a651",
      "metadata": {},
      "source": [
        "Выводы:\n",
        "1. Наибольшее количество вакансий размещено в крупных городах\n",
        "2. У некоторых работадателей нет опубликованных вакансий\n",
        "3. Некоторый работадатели публикуют вакансии во многих регионах при этом есть работадатели которые не указывают ни одного региона.\n",
        "4. Много работадателей которые не указывают сферы деятельности, есть работадатели которые указывают несколько сфер деятельности.\n",
        "5. IT компании публикуют много вакансий в большом количестве регионов"
      ]
    },
    {
      "cell_type": "markdown",
      "id": "b1ef156a-efcb-49ce-bb23-90763e7f35b2",
      "metadata": {
        "id": "b1ef156a-efcb-49ce-bb23-90763e7f35b2",
        "tags": []
      },
      "source": [
        "# Юнит 6. Предметный анализ"
      ]
    },
    {
      "cell_type": "markdown",
      "id": "b9cd50a0-992d-4988-8463-2b2b1c4629b4",
      "metadata": {
        "id": "b9cd50a0-992d-4988-8463-2b2b1c4629b4"
      },
      "source": [
        "1. Сколько вакансий имеет отношение к данным?\n",
        "\n",
        "Считаем, что вакансия имеет отношение к данным, если в её названии содержатся слова 'data' или 'данн'.\n",
        "\n",
        "*Подсказка: Обратите внимание, что названия вакансий могут быть написаны в любом регистре.* \n"
      ]
    },
    {
      "cell_type": "code",
      "execution_count": 38,
      "id": "54ab0e50-c0f1-47cc-a54b-bc5c8bc363f9",
      "metadata": {
        "id": "54ab0e50-c0f1-47cc-a54b-bc5c8bc363f9"
      },
      "outputs": [],
      "source": [
        "query_6_1 = f'''select\n",
        "                name\n",
        "            from public.vacancies\n",
        "            WHERE name ilike '%data%' \n",
        "            or name ilike '%данн%'\n",
        "            '''"
      ]
    },
    {
      "cell_type": "code",
      "execution_count": 39,
      "id": "9F1meAqsuUjd",
      "metadata": {
        "id": "9F1meAqsuUjd"
      },
      "outputs": [
        {
          "name": "stderr",
          "output_type": "stream",
          "text": [
            "C:\\Users\\kab27\\AppData\\Local\\Temp\\ipykernel_12832\\43016786.py:1: UserWarning: pandas only supports SQLAlchemy connectable (engine/connection) or database string URI or sqlite3 DBAPI2 connection. Other DBAPI2 objects are not tested. Please consider using SQLAlchemy.\n",
            "  df_6_1 = pd.read_sql_query(query_6_1, connection)\n"
          ]
        },
        {
          "data": {
            "text/html": [
              "<div>\n",
              "<style scoped>\n",
              "    .dataframe tbody tr th:only-of-type {\n",
              "        vertical-align: middle;\n",
              "    }\n",
              "\n",
              "    .dataframe tbody tr th {\n",
              "        vertical-align: top;\n",
              "    }\n",
              "\n",
              "    .dataframe thead th {\n",
              "        text-align: right;\n",
              "    }\n",
              "</style>\n",
              "<table border=\"1\" class=\"dataframe\">\n",
              "  <thead>\n",
              "    <tr style=\"text-align: right;\">\n",
              "      <th></th>\n",
              "      <th>name</th>\n",
              "    </tr>\n",
              "  </thead>\n",
              "  <tbody>\n",
              "    <tr>\n",
              "      <th>0</th>\n",
              "      <td>Аналитик хранилищ данных и BI-систем/Аналитик ...</td>\n",
              "    </tr>\n",
              "    <tr>\n",
              "      <th>1</th>\n",
              "      <td>Data-analysts (удаленно)</td>\n",
              "    </tr>\n",
              "    <tr>\n",
              "      <th>2</th>\n",
              "      <td>Стажер Data Engineer/Data Аналитик в команду Б...</td>\n",
              "    </tr>\n",
              "    <tr>\n",
              "      <th>3</th>\n",
              "      <td>Старший специалист хранилищ данных</td>\n",
              "    </tr>\n",
              "    <tr>\n",
              "      <th>4</th>\n",
              "      <td>Администратор баз данных и сетей</td>\n",
              "    </tr>\n",
              "    <tr>\n",
              "      <th>...</th>\n",
              "      <td>...</td>\n",
              "    </tr>\n",
              "    <tr>\n",
              "      <th>1766</th>\n",
              "      <td>Программист Delphi / разработчик баз данных</td>\n",
              "    </tr>\n",
              "    <tr>\n",
              "      <th>1767</th>\n",
              "      <td>Разработчик баз данных (Big Data)</td>\n",
              "    </tr>\n",
              "    <tr>\n",
              "      <th>1768</th>\n",
              "      <td>Аналитик данных</td>\n",
              "    </tr>\n",
              "    <tr>\n",
              "      <th>1769</th>\n",
              "      <td>Data аналитик /Аналитик BI (удаленно)</td>\n",
              "    </tr>\n",
              "    <tr>\n",
              "      <th>1770</th>\n",
              "      <td>DataOps Engineer</td>\n",
              "    </tr>\n",
              "  </tbody>\n",
              "</table>\n",
              "<p>1771 rows × 1 columns</p>\n",
              "</div>"
            ],
            "text/plain": [
              "                                                   name\n",
              "0     Аналитик хранилищ данных и BI-систем/Аналитик ...\n",
              "1                              Data-analysts (удаленно)\n",
              "2     Стажер Data Engineer/Data Аналитик в команду Б...\n",
              "3                    Старший специалист хранилищ данных\n",
              "4                      Администратор баз данных и сетей\n",
              "...                                                 ...\n",
              "1766        Программист Delphi / разработчик баз данных\n",
              "1767                  Разработчик баз данных (Big Data)\n",
              "1768                                    Аналитик данных\n",
              "1769              Data аналитик /Аналитик BI (удаленно)\n",
              "1770                                   DataOps Engineer\n",
              "\n",
              "[1771 rows x 1 columns]"
            ]
          },
          "metadata": {},
          "output_type": "display_data"
        }
      ],
      "source": [
        "df_6_1 = pd.read_sql_query(query_6_1, connection)\n",
        "display(df_6_1)"
      ]
    },
    {
      "cell_type": "markdown",
      "id": "4dea20cb-a36b-474a-a0b9-e08e8e3857a5",
      "metadata": {
        "id": "4dea20cb-a36b-474a-a0b9-e08e8e3857a5"
      },
      "source": [
        "2. Сколько есть подходящих вакансий для начинающего дата-сайентиста? \n",
        "Будем считать вакансиями для дата-сайентистов такие, в названии которых есть хотя бы одно из следующих сочетаний:\n",
        "* 'data scientist'\n",
        "* 'data science'\n",
        "* 'исследователь данных'\n",
        "* 'ML' (здесь не нужно брать вакансии по HTML)\n",
        "* 'machine learning'\n",
        "* 'машинн%обучен%'\n",
        "\n",
        "** В следующих заданиях мы продолжим работать с вакансиями по этому условию.*\n",
        "\n",
        "Считаем вакансиями для специалистов уровня Junior следующие:\n",
        "* в названии есть слово 'junior' *или*\n",
        "* требуемый опыт — Нет опыта *или*\n",
        "* тип трудоустройства — Стажировка.\n",
        " "
      ]
    },
    {
      "cell_type": "code",
      "execution_count": 40,
      "id": "9c61b3c0-bb66-46c9-ae1e-81d3f5752b4a",
      "metadata": {
        "id": "9c61b3c0-bb66-46c9-ae1e-81d3f5752b4a"
      },
      "outputs": [],
      "source": [
        "query_6_2 = f'''select\n",
        "                name\n",
        "            from public.vacancies\n",
        "            WHERE \n",
        "            (name ilike '%data scientist%' \n",
        "            or name ilike '%data science%'\n",
        "            or name ilike '%исследователь данных%'\n",
        "            or (name like '%ML%' and name not ilike '%HTML%')\n",
        "            or name ilike '%machine learning%'\n",
        "            or name ilike '%машинн%обучен%')\n",
        "            and (name ilike '%junior%' \n",
        "            or experience = 'Нет опыта' \n",
        "            or employment = 'Стажировка')\n",
        "            '''"
      ]
    },
    {
      "cell_type": "code",
      "execution_count": 41,
      "id": "ZNM-LLYuu1dj",
      "metadata": {
        "id": "ZNM-LLYuu1dj"
      },
      "outputs": [
        {
          "name": "stderr",
          "output_type": "stream",
          "text": [
            "C:\\Users\\kab27\\AppData\\Local\\Temp\\ipykernel_12832\\517244489.py:1: UserWarning: pandas only supports SQLAlchemy connectable (engine/connection) or database string URI or sqlite3 DBAPI2 connection. Other DBAPI2 objects are not tested. Please consider using SQLAlchemy.\n",
            "  df_6_2 = pd.read_sql_query(query_6_2, connection)\n"
          ]
        },
        {
          "data": {
            "text/html": [
              "<div>\n",
              "<style scoped>\n",
              "    .dataframe tbody tr th:only-of-type {\n",
              "        vertical-align: middle;\n",
              "    }\n",
              "\n",
              "    .dataframe tbody tr th {\n",
              "        vertical-align: top;\n",
              "    }\n",
              "\n",
              "    .dataframe thead th {\n",
              "        text-align: right;\n",
              "    }\n",
              "</style>\n",
              "<table border=\"1\" class=\"dataframe\">\n",
              "  <thead>\n",
              "    <tr style=\"text-align: right;\">\n",
              "      <th></th>\n",
              "      <th>name</th>\n",
              "    </tr>\n",
              "  </thead>\n",
              "  <tbody>\n",
              "    <tr>\n",
              "      <th>0</th>\n",
              "      <td>Junior+ CV/ML developer</td>\n",
              "    </tr>\n",
              "    <tr>\n",
              "      <th>1</th>\n",
              "      <td>Data Scientist (Junior+)</td>\n",
              "    </tr>\n",
              "    <tr>\n",
              "      <th>2</th>\n",
              "      <td>Junior Data Scientist (Стажер)</td>\n",
              "    </tr>\n",
              "    <tr>\n",
              "      <th>3</th>\n",
              "      <td>Математик, Junior/Middle/Senior Data Scientist</td>\n",
              "    </tr>\n",
              "    <tr>\n",
              "      <th>4</th>\n",
              "      <td>Junior Data Scientist</td>\n",
              "    </tr>\n",
              "    <tr>\n",
              "      <th>5</th>\n",
              "      <td>Data Scientist/Machine Learning Engineer (Deve...</td>\n",
              "    </tr>\n",
              "    <tr>\n",
              "      <th>6</th>\n",
              "      <td>Data Scientist (Junior)</td>\n",
              "    </tr>\n",
              "    <tr>\n",
              "      <th>7</th>\n",
              "      <td>Intern/Junior Data Scientist</td>\n",
              "    </tr>\n",
              "    <tr>\n",
              "      <th>8</th>\n",
              "      <td>Junior Data Scientist (VK)</td>\n",
              "    </tr>\n",
              "    <tr>\n",
              "      <th>9</th>\n",
              "      <td>Junior/Middle Data Scientist</td>\n",
              "    </tr>\n",
              "    <tr>\n",
              "      <th>10</th>\n",
              "      <td>Data Scientist (Computer Vision) - Junior</td>\n",
              "    </tr>\n",
              "    <tr>\n",
              "      <th>11</th>\n",
              "      <td>Исследователь в области машинного обучения и м...</td>\n",
              "    </tr>\n",
              "    <tr>\n",
              "      <th>12</th>\n",
              "      <td>Data Scientist, Junior</td>\n",
              "    </tr>\n",
              "    <tr>\n",
              "      <th>13</th>\n",
              "      <td>Junior Data Scientist Управления модельных рис...</td>\n",
              "    </tr>\n",
              "    <tr>\n",
              "      <th>14</th>\n",
              "      <td>Математик-аналитик (data scientist / data anal...</td>\n",
              "    </tr>\n",
              "    <tr>\n",
              "      <th>15</th>\n",
              "      <td>Data Scientist (junior+/middle)</td>\n",
              "    </tr>\n",
              "    <tr>\n",
              "      <th>16</th>\n",
              "      <td>Junior Data Scientist</td>\n",
              "    </tr>\n",
              "    <tr>\n",
              "      <th>17</th>\n",
              "      <td>Research Engineer / Data Scientist</td>\n",
              "    </tr>\n",
              "    <tr>\n",
              "      <th>18</th>\n",
              "      <td>Стажер направления Машинное обучение и анализ ...</td>\n",
              "    </tr>\n",
              "    <tr>\n",
              "      <th>19</th>\n",
              "      <td>Стажёр Data Scientist / Группа сервисов Антифр...</td>\n",
              "    </tr>\n",
              "    <tr>\n",
              "      <th>20</th>\n",
              "      <td>Junior Data Scientist</td>\n",
              "    </tr>\n",
              "    <tr>\n",
              "      <th>21</th>\n",
              "      <td>Senior Research Engineer / Data Scientist</td>\n",
              "    </tr>\n",
              "    <tr>\n",
              "      <th>22</th>\n",
              "      <td>Ведущий AI/ML инженер</td>\n",
              "    </tr>\n",
              "    <tr>\n",
              "      <th>23</th>\n",
              "      <td>Data scientist (Junior/Middle) в консалтинг</td>\n",
              "    </tr>\n",
              "    <tr>\n",
              "      <th>24</th>\n",
              "      <td>Junior Data Scientist (математик-аналитик) уда...</td>\n",
              "    </tr>\n",
              "    <tr>\n",
              "      <th>25</th>\n",
              "      <td>Junior Data Scientist (Promo Forecast)</td>\n",
              "    </tr>\n",
              "    <tr>\n",
              "      <th>26</th>\n",
              "      <td>Data Scientist/Machine Learning Engineer (Deve...</td>\n",
              "    </tr>\n",
              "    <tr>\n",
              "      <th>27</th>\n",
              "      <td>Data Scientist в Сбер</td>\n",
              "    </tr>\n",
              "    <tr>\n",
              "      <th>28</th>\n",
              "      <td>Data Scientist/Machine Learning Engineer (Deve...</td>\n",
              "    </tr>\n",
              "    <tr>\n",
              "      <th>29</th>\n",
              "      <td>Junior Data Scientist (Валидация скоринговых м...</td>\n",
              "    </tr>\n",
              "    <tr>\n",
              "      <th>30</th>\n",
              "      <td>Junior Data Scientist (Валидация скоринговых м...</td>\n",
              "    </tr>\n",
              "    <tr>\n",
              "      <th>31</th>\n",
              "      <td>Junior Data Scientist (Валидация скоринговых м...</td>\n",
              "    </tr>\n",
              "    <tr>\n",
              "      <th>32</th>\n",
              "      <td>Junior Data Scientist (Валидация скоринговых м...</td>\n",
              "    </tr>\n",
              "    <tr>\n",
              "      <th>33</th>\n",
              "      <td>Junior Data Scientist (Валидация скоринговых м...</td>\n",
              "    </tr>\n",
              "    <tr>\n",
              "      <th>34</th>\n",
              "      <td>Junior Data Scientist (Валидация скоринговых м...</td>\n",
              "    </tr>\n",
              "    <tr>\n",
              "      <th>35</th>\n",
              "      <td>Junior Data Scientist (Валидация скоринговых м...</td>\n",
              "    </tr>\n",
              "    <tr>\n",
              "      <th>36</th>\n",
              "      <td>Junior Data Scientist (Валидация скоринговых м...</td>\n",
              "    </tr>\n",
              "    <tr>\n",
              "      <th>37</th>\n",
              "      <td>Junior Data Scientist (Валидация скоринговых м...</td>\n",
              "    </tr>\n",
              "    <tr>\n",
              "      <th>38</th>\n",
              "      <td>Риск - Аналитик (Junior Data scientist)</td>\n",
              "    </tr>\n",
              "    <tr>\n",
              "      <th>39</th>\n",
              "      <td>Программист Python/ Data Scientist (junior / m...</td>\n",
              "    </tr>\n",
              "    <tr>\n",
              "      <th>40</th>\n",
              "      <td>Риск-аналитик (ML Engineer / Data Scientist)</td>\n",
              "    </tr>\n",
              "    <tr>\n",
              "      <th>41</th>\n",
              "      <td>Data Scientist/ML engineer (Python/C++)</td>\n",
              "    </tr>\n",
              "    <tr>\n",
              "      <th>42</th>\n",
              "      <td>Junior Data scientist/ Младший риск-аналитик</td>\n",
              "    </tr>\n",
              "    <tr>\n",
              "      <th>43</th>\n",
              "      <td>Senior Data Scientist (AI)</td>\n",
              "    </tr>\n",
              "    <tr>\n",
              "      <th>44</th>\n",
              "      <td>Junior Data Scientist for NLP (Python)</td>\n",
              "    </tr>\n",
              "    <tr>\n",
              "      <th>45</th>\n",
              "      <td>Junior Research Engineer / Data Scientist</td>\n",
              "    </tr>\n",
              "    <tr>\n",
              "      <th>46</th>\n",
              "      <td>Ведущий AI/ML инженер</td>\n",
              "    </tr>\n",
              "    <tr>\n",
              "      <th>47</th>\n",
              "      <td>Data Scientist</td>\n",
              "    </tr>\n",
              "    <tr>\n",
              "      <th>48</th>\n",
              "      <td>Python developer / Junior ML engineer</td>\n",
              "    </tr>\n",
              "    <tr>\n",
              "      <th>49</th>\n",
              "      <td>Data Scientist, Junior</td>\n",
              "    </tr>\n",
              "    <tr>\n",
              "      <th>50</th>\n",
              "      <td>Data Scientist (Computer Vision) / Junior</td>\n",
              "    </tr>\n",
              "  </tbody>\n",
              "</table>\n",
              "</div>"
            ],
            "text/plain": [
              "                                                 name\n",
              "0                             Junior+ CV/ML developer\n",
              "1                            Data Scientist (Junior+)\n",
              "2                      Junior Data Scientist (Стажер)\n",
              "3      Математик, Junior/Middle/Senior Data Scientist\n",
              "4                               Junior Data Scientist\n",
              "5   Data Scientist/Machine Learning Engineer (Deve...\n",
              "6                             Data Scientist (Junior)\n",
              "7                        Intern/Junior Data Scientist\n",
              "8                          Junior Data Scientist (VK)\n",
              "9                        Junior/Middle Data Scientist\n",
              "10          Data Scientist (Computer Vision) - Junior\n",
              "11  Исследователь в области машинного обучения и м...\n",
              "12                             Data Scientist, Junior\n",
              "13  Junior Data Scientist Управления модельных рис...\n",
              "14  Математик-аналитик (data scientist / data anal...\n",
              "15                    Data Scientist (junior+/middle)\n",
              "16                              Junior Data Scientist\n",
              "17                 Research Engineer / Data Scientist\n",
              "18  Стажер направления Машинное обучение и анализ ...\n",
              "19  Стажёр Data Scientist / Группа сервисов Антифр...\n",
              "20                              Junior Data Scientist\n",
              "21          Senior Research Engineer / Data Scientist\n",
              "22                              Ведущий AI/ML инженер\n",
              "23        Data scientist (Junior/Middle) в консалтинг\n",
              "24  Junior Data Scientist (математик-аналитик) уда...\n",
              "25             Junior Data Scientist (Promo Forecast)\n",
              "26  Data Scientist/Machine Learning Engineer (Deve...\n",
              "27                              Data Scientist в Сбер\n",
              "28  Data Scientist/Machine Learning Engineer (Deve...\n",
              "29  Junior Data Scientist (Валидация скоринговых м...\n",
              "30  Junior Data Scientist (Валидация скоринговых м...\n",
              "31  Junior Data Scientist (Валидация скоринговых м...\n",
              "32  Junior Data Scientist (Валидация скоринговых м...\n",
              "33  Junior Data Scientist (Валидация скоринговых м...\n",
              "34  Junior Data Scientist (Валидация скоринговых м...\n",
              "35  Junior Data Scientist (Валидация скоринговых м...\n",
              "36  Junior Data Scientist (Валидация скоринговых м...\n",
              "37  Junior Data Scientist (Валидация скоринговых м...\n",
              "38            Риск - Аналитик (Junior Data scientist)\n",
              "39  Программист Python/ Data Scientist (junior / m...\n",
              "40       Риск-аналитик (ML Engineer / Data Scientist)\n",
              "41            Data Scientist/ML engineer (Python/C++)\n",
              "42       Junior Data scientist/ Младший риск-аналитик\n",
              "43                         Senior Data Scientist (AI)\n",
              "44             Junior Data Scientist for NLP (Python)\n",
              "45          Junior Research Engineer / Data Scientist\n",
              "46                              Ведущий AI/ML инженер\n",
              "47                                     Data Scientist\n",
              "48              Python developer / Junior ML engineer\n",
              "49                             Data Scientist, Junior\n",
              "50          Data Scientist (Computer Vision) / Junior"
            ]
          },
          "metadata": {},
          "output_type": "display_data"
        }
      ],
      "source": [
        "df_6_2 = pd.read_sql_query(query_6_2, connection)\n",
        "display(df_6_2)"
      ]
    },
    {
      "cell_type": "markdown",
      "id": "eedceb80-c5ca-480e-b27a-278dfb8b4438",
      "metadata": {
        "id": "eedceb80-c5ca-480e-b27a-278dfb8b4438"
      },
      "source": [
        "3. Сколько есть вакансий для DS, в которых в качестве ключевого навыка указан SQL или postgres?\n",
        "\n",
        "** Критерии для отнесения вакансии к DS указаны в предыдущем задании.*"
      ]
    },
    {
      "cell_type": "code",
      "execution_count": 42,
      "id": "69621713-0cc5-4f1b-a1d7-bb144fa6148c",
      "metadata": {
        "id": "69621713-0cc5-4f1b-a1d7-bb144fa6148c"
      },
      "outputs": [],
      "source": [
        "query_6_3 = f'''select\n",
        "                name\n",
        "            from public.vacancies\n",
        "            WHERE \n",
        "            (name ilike '%data%scientist%' \n",
        "            or name ilike '%data%science%'\n",
        "            or name ilike '%исследователь%данных%'\n",
        "            or (name like '%ML%' and name not ilike '%HTML%')\n",
        "            or name ilike '%machine%learning%'\n",
        "            or name ilike '%машинн%обучен%%')\n",
        "            and (key_skills ilike '%SQL%' or key_skills ilike '%postgres%')\n",
        "            '''"
      ]
    },
    {
      "cell_type": "code",
      "execution_count": 43,
      "id": "alA8WEAAvGdf",
      "metadata": {
        "id": "alA8WEAAvGdf"
      },
      "outputs": [
        {
          "name": "stderr",
          "output_type": "stream",
          "text": [
            "C:\\Users\\kab27\\AppData\\Local\\Temp\\ipykernel_12832\\352076616.py:1: UserWarning: pandas only supports SQLAlchemy connectable (engine/connection) or database string URI or sqlite3 DBAPI2 connection. Other DBAPI2 objects are not tested. Please consider using SQLAlchemy.\n",
            "  df_6_3 = pd.read_sql_query(query_6_3, connection)\n"
          ]
        },
        {
          "data": {
            "text/html": [
              "<div>\n",
              "<style scoped>\n",
              "    .dataframe tbody tr th:only-of-type {\n",
              "        vertical-align: middle;\n",
              "    }\n",
              "\n",
              "    .dataframe tbody tr th {\n",
              "        vertical-align: top;\n",
              "    }\n",
              "\n",
              "    .dataframe thead th {\n",
              "        text-align: right;\n",
              "    }\n",
              "</style>\n",
              "<table border=\"1\" class=\"dataframe\">\n",
              "  <thead>\n",
              "    <tr style=\"text-align: right;\">\n",
              "      <th></th>\n",
              "      <th>name</th>\n",
              "    </tr>\n",
              "  </thead>\n",
              "  <tbody>\n",
              "    <tr>\n",
              "      <th>0</th>\n",
              "      <td>Junior+ CV/ML developer</td>\n",
              "    </tr>\n",
              "    <tr>\n",
              "      <th>1</th>\n",
              "      <td>Data Scientist</td>\n",
              "    </tr>\n",
              "    <tr>\n",
              "      <th>2</th>\n",
              "      <td>Data Scientist</td>\n",
              "    </tr>\n",
              "    <tr>\n",
              "      <th>3</th>\n",
              "      <td>Data Scientist</td>\n",
              "    </tr>\n",
              "    <tr>\n",
              "      <th>4</th>\n",
              "      <td>Data Scientist</td>\n",
              "    </tr>\n",
              "    <tr>\n",
              "      <th>...</th>\n",
              "      <td>...</td>\n",
              "    </tr>\n",
              "    <tr>\n",
              "      <th>196</th>\n",
              "      <td>Data Scientist, Junior</td>\n",
              "    </tr>\n",
              "    <tr>\n",
              "      <th>197</th>\n",
              "      <td>Data Scientist (Computer Vision) / Junior</td>\n",
              "    </tr>\n",
              "    <tr>\n",
              "      <th>198</th>\n",
              "      <td>Data Scientist (Computer Vision) / Middle</td>\n",
              "    </tr>\n",
              "    <tr>\n",
              "      <th>199</th>\n",
              "      <td>Machine Learning and Computer vision developer</td>\n",
              "    </tr>\n",
              "    <tr>\n",
              "      <th>200</th>\n",
              "      <td>Middle+/Senior Data Scientist</td>\n",
              "    </tr>\n",
              "  </tbody>\n",
              "</table>\n",
              "<p>201 rows × 1 columns</p>\n",
              "</div>"
            ],
            "text/plain": [
              "                                               name\n",
              "0                           Junior+ CV/ML developer\n",
              "1                                    Data Scientist\n",
              "2                                    Data Scientist\n",
              "3                                    Data Scientist\n",
              "4                                    Data Scientist\n",
              "..                                              ...\n",
              "196                          Data Scientist, Junior\n",
              "197       Data Scientist (Computer Vision) / Junior\n",
              "198       Data Scientist (Computer Vision) / Middle\n",
              "199  Machine Learning and Computer vision developer\n",
              "200                   Middle+/Senior Data Scientist\n",
              "\n",
              "[201 rows x 1 columns]"
            ]
          },
          "metadata": {},
          "output_type": "display_data"
        }
      ],
      "source": [
        "df_6_3 = pd.read_sql_query(query_6_3, connection)\n",
        "display(df_6_3)"
      ]
    },
    {
      "cell_type": "markdown",
      "id": "1be1e9c6-37cf-4a5f-bfeb-04cab799dc80",
      "metadata": {
        "id": "1be1e9c6-37cf-4a5f-bfeb-04cab799dc80"
      },
      "source": [
        "4. Проверьте, насколько популярен Python в требованиях работодателей к DS.Для этого вычислите количество вакансий, в которых в качестве ключевого навыка указан Python.\n",
        "\n",
        "** Это можно сделать помощью запроса, аналогичного предыдущему.*"
      ]
    },
    {
      "cell_type": "code",
      "execution_count": 44,
      "id": "0036a355-9ccf-4564-8b01-73d8194297e7",
      "metadata": {
        "id": "0036a355-9ccf-4564-8b01-73d8194297e7"
      },
      "outputs": [],
      "source": [
        "query_6_4 = f'''select\n",
        "                name\n",
        "            from public.vacancies\n",
        "            WHERE \n",
        "            (name ilike '%data%scientist%' \n",
        "            or name ilike '%data%science%'\n",
        "            or name ilike '%исследователь%данных%'\n",
        "            or (name like '%ML%' and name not ilike '%HTML%')\n",
        "            or name ilike '%machine%learning%'\n",
        "            or name ilike '%машинн%обучен%%')\n",
        "            and (key_skills ilike '%python%')\n",
        "            '''"
      ]
    },
    {
      "cell_type": "code",
      "execution_count": 45,
      "id": "1i-5WyucvQ6v",
      "metadata": {
        "id": "1i-5WyucvQ6v"
      },
      "outputs": [
        {
          "name": "stderr",
          "output_type": "stream",
          "text": [
            "C:\\Users\\kab27\\AppData\\Local\\Temp\\ipykernel_12832\\406769518.py:1: UserWarning: pandas only supports SQLAlchemy connectable (engine/connection) or database string URI or sqlite3 DBAPI2 connection. Other DBAPI2 objects are not tested. Please consider using SQLAlchemy.\n",
            "  df_6_4 = pd.read_sql_query(query_6_4, connection)\n"
          ]
        },
        {
          "data": {
            "text/html": [
              "<div>\n",
              "<style scoped>\n",
              "    .dataframe tbody tr th:only-of-type {\n",
              "        vertical-align: middle;\n",
              "    }\n",
              "\n",
              "    .dataframe tbody tr th {\n",
              "        vertical-align: top;\n",
              "    }\n",
              "\n",
              "    .dataframe thead th {\n",
              "        text-align: right;\n",
              "    }\n",
              "</style>\n",
              "<table border=\"1\" class=\"dataframe\">\n",
              "  <thead>\n",
              "    <tr style=\"text-align: right;\">\n",
              "      <th></th>\n",
              "      <th>name</th>\n",
              "    </tr>\n",
              "  </thead>\n",
              "  <tbody>\n",
              "    <tr>\n",
              "      <th>0</th>\n",
              "      <td>Junior+ CV/ML developer</td>\n",
              "    </tr>\n",
              "    <tr>\n",
              "      <th>1</th>\n",
              "      <td>Data Scientist</td>\n",
              "    </tr>\n",
              "    <tr>\n",
              "      <th>2</th>\n",
              "      <td>Data Scientist (Junior+)</td>\n",
              "    </tr>\n",
              "    <tr>\n",
              "      <th>3</th>\n",
              "      <td>AI/ML Senior Engineer</td>\n",
              "    </tr>\n",
              "    <tr>\n",
              "      <th>4</th>\n",
              "      <td>Data Scientist</td>\n",
              "    </tr>\n",
              "    <tr>\n",
              "      <th>...</th>\n",
              "      <td>...</td>\n",
              "    </tr>\n",
              "    <tr>\n",
              "      <th>346</th>\n",
              "      <td>Machine Learning and Computer vision developer</td>\n",
              "    </tr>\n",
              "    <tr>\n",
              "      <th>347</th>\n",
              "      <td>Data scientist / Исследователь-программист данных</td>\n",
              "    </tr>\n",
              "    <tr>\n",
              "      <th>348</th>\n",
              "      <td>Специалист ML/DS</td>\n",
              "    </tr>\n",
              "    <tr>\n",
              "      <th>349</th>\n",
              "      <td>Data Scientist в области рекомендательных систем</td>\n",
              "    </tr>\n",
              "    <tr>\n",
              "      <th>350</th>\n",
              "      <td>ML Engineer Team Lead (to Cyprus)</td>\n",
              "    </tr>\n",
              "  </tbody>\n",
              "</table>\n",
              "<p>351 rows × 1 columns</p>\n",
              "</div>"
            ],
            "text/plain": [
              "                                                  name\n",
              "0                              Junior+ CV/ML developer\n",
              "1                                       Data Scientist\n",
              "2                             Data Scientist (Junior+)\n",
              "3                                AI/ML Senior Engineer\n",
              "4                                       Data Scientist\n",
              "..                                                 ...\n",
              "346     Machine Learning and Computer vision developer\n",
              "347  Data scientist / Исследователь-программист данных\n",
              "348                                   Специалист ML/DS\n",
              "349   Data Scientist в области рекомендательных систем\n",
              "350                  ML Engineer Team Lead (to Cyprus)\n",
              "\n",
              "[351 rows x 1 columns]"
            ]
          },
          "metadata": {},
          "output_type": "display_data"
        }
      ],
      "source": [
        "df_6_4 = pd.read_sql_query(query_6_4, connection)\n",
        "display(df_6_4)"
      ]
    },
    {
      "cell_type": "markdown",
      "id": "ec3c8db7-fa21-4a41-a994-1af63742a642",
      "metadata": {
        "id": "ec3c8db7-fa21-4a41-a994-1af63742a642"
      },
      "source": [
        "5. Сколько ключевых навыков в среднем указывают в вакансиях для DS?\n",
        "Ответ округлите до двух знаков после точки-разделителя."
      ]
    },
    {
      "cell_type": "code",
      "execution_count": 46,
      "id": "949132bc-d5b6-4611-8218-0b9a504d74f4",
      "metadata": {
        "id": "949132bc-d5b6-4611-8218-0b9a504d74f4"
      },
      "outputs": [],
      "source": [
        "query_6_5 = f'''select\n",
        "                ROUND(AVG(1 + length(key_skills) - length(Replace(key_skills, CHR(9), ''))), 2)\n",
        "            from public.vacancies\n",
        "            WHERE \n",
        "            (name ilike '%data%scientist%' \n",
        "            or name ilike '%data%science%'\n",
        "            or name ilike '%исследователь%данных%'\n",
        "            or (name like '%ML%' and name not ilike '%HTML%')\n",
        "            or name ilike '%machine%learning%'\n",
        "            or name ilike '%машинн%обучен%%')\n",
        "            '''"
      ]
    },
    {
      "cell_type": "code",
      "execution_count": 47,
      "id": "a3V24Tvmviqk",
      "metadata": {
        "id": "a3V24Tvmviqk"
      },
      "outputs": [
        {
          "name": "stderr",
          "output_type": "stream",
          "text": [
            "C:\\Users\\kab27\\AppData\\Local\\Temp\\ipykernel_12832\\1427856002.py:1: UserWarning: pandas only supports SQLAlchemy connectable (engine/connection) or database string URI or sqlite3 DBAPI2 connection. Other DBAPI2 objects are not tested. Please consider using SQLAlchemy.\n",
            "  df_6_5 = pd.read_sql_query(query_6_5, connection)\n"
          ]
        },
        {
          "data": {
            "text/html": [
              "<div>\n",
              "<style scoped>\n",
              "    .dataframe tbody tr th:only-of-type {\n",
              "        vertical-align: middle;\n",
              "    }\n",
              "\n",
              "    .dataframe tbody tr th {\n",
              "        vertical-align: top;\n",
              "    }\n",
              "\n",
              "    .dataframe thead th {\n",
              "        text-align: right;\n",
              "    }\n",
              "</style>\n",
              "<table border=\"1\" class=\"dataframe\">\n",
              "  <thead>\n",
              "    <tr style=\"text-align: right;\">\n",
              "      <th></th>\n",
              "      <th>round</th>\n",
              "    </tr>\n",
              "  </thead>\n",
              "  <tbody>\n",
              "    <tr>\n",
              "      <th>0</th>\n",
              "      <td>6.41</td>\n",
              "    </tr>\n",
              "  </tbody>\n",
              "</table>\n",
              "</div>"
            ],
            "text/plain": [
              "   round\n",
              "0   6.41"
            ]
          },
          "metadata": {},
          "output_type": "display_data"
        }
      ],
      "source": [
        "df_6_5 = pd.read_sql_query(query_6_5, connection)\n",
        "display(df_6_5)"
      ]
    },
    {
      "cell_type": "markdown",
      "id": "1041c17a-ca8f-4543-a0ca-32778914fb00",
      "metadata": {
        "id": "1041c17a-ca8f-4543-a0ca-32778914fb00"
      },
      "source": [
        "6. Напишите запрос, позволяющий вычислить, какую зарплату для DS в **среднем** указывают для каждого типа требуемого опыта (уникальное значение из поля *experience*). \n",
        "\n",
        "При решении задачи примите во внимание следующее:\n",
        "1. Рассматриваем только вакансии, у которых заполнено хотя бы одно из двух полей с зарплатой.\n",
        "2. Если заполнены оба поля с зарплатой, то считаем зарплату по каждой вакансии как сумму двух полей, делённую на 2. Если заполнено только одно из полей, то его и считаем зарплатой по вакансии.\n",
        "3. Если в расчётах участвует null, в результате он тоже даст null (посмотрите, что возвращает запрос select 1 + null). Чтобы избежать этой ситуацию, мы воспользуемся функцией [coalesce](https://postgrespro.ru/docs/postgresql/9.5/functions-conditional#functions-coalesce-nvl-ifnull), которая заменит null на значение, которое мы передадим. Например, посмотрите, что возвращает запрос `select 1 + coalesce(null, 0)`\n",
        "\n",
        "Выясните, на какую зарплату в среднем может рассчитывать дата-сайентист с опытом работы от 3 до 6 лет. Результат округлите до целого числа. "
      ]
    },
    {
      "cell_type": "code",
      "execution_count": 48,
      "id": "6a743d39-5204-48d3-8271-b9f88e68d40e",
      "metadata": {
        "id": "6a743d39-5204-48d3-8271-b9f88e68d40e"
      },
      "outputs": [],
      "source": [
        "query_6_6 = f'''select\n",
        "                distinct(experience),\n",
        "                ROUND(AVG((coalesce(salary_to, salary_from) + coalesce(salary_from, salary_to))/2))\n",
        "            from public.vacancies\n",
        "            WHERE \n",
        "            (name ilike '%data%scientist%' \n",
        "            or name ilike '%data%science%'\n",
        "            or name ilike '%исследователь%данных%'\n",
        "            or (name like '%ML%' and name not ilike '%HTML%')\n",
        "            or name ilike '%machine%learning%'\n",
        "            or name ilike '%машинн%обучен%%')\n",
        "            and (salary_to is not null or salary_from is not null)\n",
        "            and experience = 'От 3 до 6 лет'\n",
        "            GROUP BY experience\n",
        "            '''"
      ]
    },
    {
      "cell_type": "code",
      "execution_count": 49,
      "id": "aRIJ0mZEwU1_",
      "metadata": {
        "id": "aRIJ0mZEwU1_"
      },
      "outputs": [
        {
          "name": "stderr",
          "output_type": "stream",
          "text": [
            "C:\\Users\\kab27\\AppData\\Local\\Temp\\ipykernel_12832\\3008645249.py:1: UserWarning: pandas only supports SQLAlchemy connectable (engine/connection) or database string URI or sqlite3 DBAPI2 connection. Other DBAPI2 objects are not tested. Please consider using SQLAlchemy.\n",
            "  df_6_6 = pd.read_sql_query(query_6_6, connection)\n"
          ]
        },
        {
          "data": {
            "text/html": [
              "<div>\n",
              "<style scoped>\n",
              "    .dataframe tbody tr th:only-of-type {\n",
              "        vertical-align: middle;\n",
              "    }\n",
              "\n",
              "    .dataframe tbody tr th {\n",
              "        vertical-align: top;\n",
              "    }\n",
              "\n",
              "    .dataframe thead th {\n",
              "        text-align: right;\n",
              "    }\n",
              "</style>\n",
              "<table border=\"1\" class=\"dataframe\">\n",
              "  <thead>\n",
              "    <tr style=\"text-align: right;\">\n",
              "      <th></th>\n",
              "      <th>experience</th>\n",
              "      <th>round</th>\n",
              "    </tr>\n",
              "  </thead>\n",
              "  <tbody>\n",
              "    <tr>\n",
              "      <th>0</th>\n",
              "      <td>От 3 до 6 лет</td>\n",
              "      <td>243115.0</td>\n",
              "    </tr>\n",
              "  </tbody>\n",
              "</table>\n",
              "</div>"
            ],
            "text/plain": [
              "      experience     round\n",
              "0  От 3 до 6 лет  243115.0"
            ]
          },
          "metadata": {},
          "output_type": "display_data"
        }
      ],
      "source": [
        "df_6_6 = pd.read_sql_query(query_6_6, connection)\n",
        "display(df_6_6)"
      ]
    },
    {
      "cell_type": "code",
      "execution_count": 81,
      "id": "53d73ed2",
      "metadata": {},
      "outputs": [],
      "source": [
        "query_0_1 = f'''select\n",
        "                e.name as \"Company name\",\n",
        "                count(v.id) as \"Vacancies count\"\n",
        "            from public.vacancies v\n",
        "            LEFT JOIN employers e ON e.id = v.employer_id\n",
        "            WHERE \n",
        "            (v.name ilike '%data%scientist%' \n",
        "            or v.name ilike '%data%science%'\n",
        "            or v.name ilike '%исследователь%данных%'\n",
        "            or (v.name like '%ML%' and v.name not ilike '%HTML%')\n",
        "            or v.name ilike '%machine%learning%'\n",
        "            or v.name ilike '%машинн%обучен%%')\n",
        "            GROUP BY e.name\n",
        "            ORDER BY count(v.id) desc\n",
        "            LIMIT 10\n",
        "            '''"
      ]
    },
    {
      "cell_type": "code",
      "execution_count": 82,
      "id": "0a4bd5b5",
      "metadata": {},
      "outputs": [
        {
          "name": "stderr",
          "output_type": "stream",
          "text": [
            "C:\\Users\\kab27\\AppData\\Local\\Temp\\ipykernel_12832\\3667547203.py:1: UserWarning: pandas only supports SQLAlchemy connectable (engine/connection) or database string URI or sqlite3 DBAPI2 connection. Other DBAPI2 objects are not tested. Please consider using SQLAlchemy.\n",
            "  df_0_1 = pd.read_sql_query(query_0_1, connection)\n"
          ]
        },
        {
          "data": {
            "text/html": [
              "<div>\n",
              "<style scoped>\n",
              "    .dataframe tbody tr th:only-of-type {\n",
              "        vertical-align: middle;\n",
              "    }\n",
              "\n",
              "    .dataframe tbody tr th {\n",
              "        vertical-align: top;\n",
              "    }\n",
              "\n",
              "    .dataframe thead th {\n",
              "        text-align: right;\n",
              "    }\n",
              "</style>\n",
              "<table border=\"1\" class=\"dataframe\">\n",
              "  <thead>\n",
              "    <tr style=\"text-align: right;\">\n",
              "      <th></th>\n",
              "      <th>Company name</th>\n",
              "      <th>Vacancies count</th>\n",
              "    </tr>\n",
              "  </thead>\n",
              "  <tbody>\n",
              "    <tr>\n",
              "      <th>0</th>\n",
              "      <td>СБЕР</td>\n",
              "      <td>38</td>\n",
              "    </tr>\n",
              "    <tr>\n",
              "      <th>1</th>\n",
              "      <td>Bell Integrator</td>\n",
              "      <td>25</td>\n",
              "    </tr>\n",
              "    <tr>\n",
              "      <th>2</th>\n",
              "      <td>Банк ВТБ (ПАО)</td>\n",
              "      <td>18</td>\n",
              "    </tr>\n",
              "    <tr>\n",
              "      <th>3</th>\n",
              "      <td>VK</td>\n",
              "      <td>15</td>\n",
              "    </tr>\n",
              "    <tr>\n",
              "      <th>4</th>\n",
              "      <td>Positive Technologies</td>\n",
              "      <td>11</td>\n",
              "    </tr>\n",
              "    <tr>\n",
              "      <th>5</th>\n",
              "      <td>Яндекс</td>\n",
              "      <td>9</td>\n",
              "    </tr>\n",
              "    <tr>\n",
              "      <th>6</th>\n",
              "      <td>EvenBet Gaming</td>\n",
              "      <td>9</td>\n",
              "    </tr>\n",
              "    <tr>\n",
              "      <th>7</th>\n",
              "      <td>МегаФон</td>\n",
              "      <td>8</td>\n",
              "    </tr>\n",
              "    <tr>\n",
              "      <th>8</th>\n",
              "      <td>Andersen</td>\n",
              "      <td>7</td>\n",
              "    </tr>\n",
              "    <tr>\n",
              "      <th>9</th>\n",
              "      <td>Ozon</td>\n",
              "      <td>6</td>\n",
              "    </tr>\n",
              "  </tbody>\n",
              "</table>\n",
              "</div>"
            ],
            "text/plain": [
              "            Company name  Vacancies count\n",
              "0                   СБЕР               38\n",
              "1        Bell Integrator               25\n",
              "2         Банк ВТБ (ПАО)               18\n",
              "3                     VK               15\n",
              "4  Positive Technologies               11\n",
              "5                 Яндекс                9\n",
              "6         EvenBet Gaming                9\n",
              "7                МегаФон                8\n",
              "8               Andersen                7\n",
              "9                   Ozon                6"
            ]
          },
          "metadata": {},
          "output_type": "display_data"
        }
      ],
      "source": [
        "df_0_1 = pd.read_sql_query(query_0_1, connection)\n",
        "display(df_0_1)"
      ]
    },
    {
      "cell_type": "code",
      "execution_count": 83,
      "id": "4c181825",
      "metadata": {},
      "outputs": [],
      "source": [
        "connection.close()"
      ]
    },
    {
      "cell_type": "markdown",
      "id": "6a7892b4-4113-4746-adce-18aa2844f18e",
      "metadata": {
        "id": "6a7892b4-4113-4746-adce-18aa2844f18e"
      },
      "source": [
        "***"
      ]
    },
    {
      "attachments": {},
      "cell_type": "markdown",
      "id": "92ecfe89",
      "metadata": {},
      "source": [
        "На площадке HeadHunter размещено много вакансий связанных по работе с данными. Вакансий относящихся к DS почти в 35 раз меньше. Для работы по специальности DS нужно владеть в среднем 6-7 ключевыми навыками (одним из которых являеться SQL). При этом SQL является ключевым навыком в 201 вакансии. В зависимости от опыта работ специалист по DS может расчитывать на среднюю за от 74 000 до 240 000."
      ]
    },
    {
      "cell_type": "markdown",
      "id": "c0ED6fh7wiBT",
      "metadata": {
        "id": "c0ED6fh7wiBT"
      },
      "source": [
        "# Общий вывод по проекту"
      ]
    },
    {
      "attachments": {},
      "cell_type": "markdown",
      "id": "e75abd92",
      "metadata": {},
      "source": [
        "В целом данные данные соответствуют целям проекта и позволяют провести анализ и выбрать вакансии удовлетворяющие условиям проекта.\n",
        "\n",
        "Среди представленной выборки вакансий вакансии связанные с работой с данными занимают 3,7% а вакансиий по DS еще меньше. Не смотря на это можно провести выборку в зависимости от региона, опыта работы сооискателя и желаемых графика работы и типа трудоустройства.\n",
        "\n"
      ]
    }
  ],
  "metadata": {
    "colab": {
      "collapsed_sections": [
        "8d62a9f3-f64e-4fe7-bdac-c4dffa16155e"
      ],
      "provenance": []
    },
    "kernelspec": {
      "display_name": "Python 3 (ipykernel)",
      "language": "python",
      "name": "python3"
    },
    "language_info": {
      "codemirror_mode": {
        "name": "ipython",
        "version": 3
      },
      "file_extension": ".py",
      "mimetype": "text/x-python",
      "name": "python",
      "nbconvert_exporter": "python",
      "pygments_lexer": "ipython3",
      "version": "3.9.10"
    }
  },
  "nbformat": 4,
  "nbformat_minor": 5
}
